{
 "cells": [
  {
   "cell_type": "code",
   "execution_count": 2,
   "metadata": {},
   "outputs": [
    {
     "data": {
      "text/plain": [
       "'Yep!'"
      ]
     },
     "execution_count": 2,
     "metadata": {},
     "output_type": "execute_result"
    }
   ],
   "source": [
    "# Click on the \"Execute Cell\" button on the left, which looks like a \"Play\" button.\n",
    "# VS Code will probably ask you what \"kernel\" to use. Select the anaconda version \n",
    "# that you just installed. Or, if you already know what you're doing, select your\n",
    "# desired Python 3 kernel.\n",
    "do_i_work = \"Yep!\"\n",
    "do_i_work"
   ]
  },
  {
   "cell_type": "markdown",
   "metadata": {},
   "source": [
    "If `Yep!` didn't print out above, and you received an error message, please copy and paste the error message to the Help discussion thread on Canvas."
   ]
  }
 ],
 "metadata": {
  "kernelspec": {
   "display_name": "Python 3",
   "language": "python",
   "name": "python3"
  },
  "language_info": {
   "codemirror_mode": {
    "name": "ipython",
    "version": 3
   },
   "file_extension": ".py",
   "mimetype": "text/x-python",
   "name": "python",
   "nbconvert_exporter": "python",
   "pygments_lexer": "ipython3",
   "version": "3.9.13"
  },
  "orig_nbformat": 4
 },
 "nbformat": 4,
 "nbformat_minor": 2
}
