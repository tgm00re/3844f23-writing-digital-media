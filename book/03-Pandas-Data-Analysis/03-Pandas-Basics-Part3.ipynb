{
 "cells": [
  {
   "cell_type": "markdown",
   "metadata": {},
   "source": [
    "# Pandas Basics — Part 3"
   ]
  },
  {
   "cell_type": "markdown",
   "metadata": {},
   "source": [
    "In this lesson, we're going to introduce more fundamentals of [Pandas](https://pandas.pydata.org/pandas-docs/stable/getting_started/overview.html), a powerful Python library for working with tabular data like CSV files.\n",
    "\n",
    "We will review skills learned from the last two lessons and introduce how to:\n",
    "\n",
    "- Check for duplicate data\n",
    "- Clean and transform data\n",
    "- Manipulate string data\n",
    "- Apply functions\n",
    "- Reset index\n",
    "- Bonus! Create an interactive data viz"
   ]
  },
  {
   "cell_type": "markdown",
   "metadata": {},
   "source": [
    "___"
   ]
  },
  {
   "cell_type": "markdown",
   "metadata": {},
   "source": [
    "## 1. Dataset - *The Pudding*'s Film Dialogue Data"
   ]
  },
  {
   "cell_type": "markdown",
   "metadata": {},
   "source": [
    "<blockquote class=\"epigraph\" style=\" padding: 10px\">\n",
    "\n",
    "Lately, Hollywood has been taking so much shit for rampant sexism and racism. The prevailing theme: white men dominate movie roles.\n",
    "\n",
    "But it’s all rhetoric and no data, which gets us nowhere in terms of having an informed discussion. How many movies are actually about men? What changes by genre, era, or box-office revenue? What circumstances generate more diversity?\n",
    "\n",
    "-Hannah Anderson and Matt Daniels, [\"Film Dialogue from 2,000 screenplays, Broken Down by Gender and Age\"](https://pudding.cool/2017/03/film-dialogue/)\n",
    "\n",
    "</blockquote>\n"
   ]
  },
  {
   "cell_type": "markdown",
   "metadata": {},
   "source": [
    "The dataset that we're working with in this lesson is taken from Hannah Andersen and Matt Daniels's *Pudding* essay, [\"Film Dialogue from 2,000 screenplays, Broken Down by Gender and Age\"](https://pudding.cool/2017/03/film-dialogue/). The dataset provides information about 2,000 films from 1925 to 2015, including characters’ names, genders, ages, how many words each character spoke in each film, the release year of each film, and how much money the film grossed. They included character gender information because they wanted to contribute data to a broader conversation about how \"white men dominate movie roles.\"\n",
    "\n",
    "Yet transforming complex social constructs like gender into quantifiable data is tricky and historically fraught. They claim, in fact, that one of the [most frequently asked questions](https://medium.com/@matthew_daniels/faq-for-the-film-dialogue-by-gender-project-40078209f751) about the piece is about gender: “Wait, but let’s talk about gender. How do you know the monster in Monsters Inc. is a boy!\" The short answer is that they don't. To determine character gender, they used actors' IMDB information, which they acknowledge is an imperfect approach: \"Sometimes, women voice male characters. Bart Simpson, for example, is voiced by a woman. We’re aware that this means some of the data is wrong, AND we’re still fine with the methodology and approach.\"\n",
    "\n",
    "As we work with this data, we want to be critical and cognizant of this approach to gender. How does such a binary understanding of gender, gleaned from the IMDB pages of actors, influence our later results and conclusions? What do we gain by using such an approach, and what do we lose? How else might we have encoded or determined gender for the same data? "
   ]
  },
  {
   "cell_type": "markdown",
   "metadata": {},
   "source": [
    "___"
   ]
  },
  {
   "cell_type": "markdown",
   "metadata": {},
   "source": [
    "## 2. Setup Our Project"
   ]
  },
  {
   "cell_type": "markdown",
   "metadata": {},
   "source": [
    "### 2.1 Import Pandas"
   ]
  },
  {
   "cell_type": "markdown",
   "metadata": {},
   "source": [
    "To use the Pandas library, we first need to `import` it."
   ]
  },
  {
   "cell_type": "code",
   "execution_count": 1,
   "metadata": {},
   "outputs": [],
   "source": [
    "import pandas as pd"
   ]
  },
  {
   "cell_type": "markdown",
   "metadata": {},
   "source": [
    "The above `import` statement not only imports the Pandas library but also gives it an alias or nickname — `pd`. This alias will save us from having to type out the entire words `pandas` each time we need to use it. Many Python libraries have commonly used aliases like `pd`."
   ]
  },
  {
   "cell_type": "markdown",
   "metadata": {},
   "source": [
    "### 2.2 Set Display Settings"
   ]
  },
  {
   "cell_type": "markdown",
   "metadata": {},
   "source": [
    "By default, Pandas will display 60 rows and 20 columns. I often change [Pandas' default display settings](https://pandas.pydata.org/pandas-docs/stable/user_guide/options.html) to show more rows or columns."
   ]
  },
  {
   "cell_type": "code",
   "execution_count": 2,
   "metadata": {},
   "outputs": [],
   "source": [
    "pd.options.display.max_rows = 100"
   ]
  },
  {
   "cell_type": "markdown",
   "metadata": {},
   "source": [
    "### 2.3 Read in CSV File"
   ]
  },
  {
   "cell_type": "markdown",
   "metadata": {},
   "source": [
    "To read in a CSV file, we will use the function `pd.read_csv()` and insert the name of our desired file path. "
   ]
  },
  {
   "cell_type": "code",
   "execution_count": 3,
   "metadata": {},
   "outputs": [],
   "source": [
    "film_df = pd.read_csv('../data/Pudding/Pudding-Film-Dialogue-Salty.csv', delimiter=\",\", encoding='utf-8')"
   ]
  },
  {
   "cell_type": "markdown",
   "metadata": {},
   "source": [
    "When reading in the CSV file, we also specified the `encoding` and `delimiter`. The `delimiter` parameter specifies the character that separates or \"delimits\" the columns in our dataset. For CSV files, the delimiter will most often be a comma. (CSV is short for *Comma Separated Values*.) Sometimes, however, the delimiter of a CSV file might be a tab (`\\t`) or, more rarely, another character."
   ]
  },
  {
   "cell_type": "markdown",
   "metadata": {},
   "source": [
    "### 2.4 Display Data"
   ]
  },
  {
   "cell_type": "markdown",
   "metadata": {},
   "source": [
    "We can display a DataFrame in a Jupyter notebook simply by running a cell with the variable name of the DataFrame."
   ]
  },
  {
   "cell_type": "markdown",
   "metadata": {},
   "source": [
    "<div class=\"admonition pandasreview\" name=\"html-admonition\" style=\"background: black; color: white; padding: 10px\">\n",
    "<p class=\"title\">Pandas Review</p>\n",
    "<code>NaN</code> is the Pandas value for any missing data. See <a href=\"https://pandas.pydata.org/pandas-docs/stable/user_guide/missing_data.html?highlight=nan/\">\"Working with missing data\"</a> for more information.\n",
    "        \n",
    "</div>"
   ]
  },
  {
   "cell_type": "code",
   "execution_count": 4,
   "metadata": {},
   "outputs": [
    {
     "data": {
      "text/html": [
       "<div>\n",
       "<style scoped>\n",
       "    .dataframe tbody tr th:only-of-type {\n",
       "        vertical-align: middle;\n",
       "    }\n",
       "\n",
       "    .dataframe tbody tr th {\n",
       "        vertical-align: top;\n",
       "    }\n",
       "\n",
       "    .dataframe thead th {\n",
       "        text-align: right;\n",
       "    }\n",
       "</style>\n",
       "<table border=\"1\" class=\"dataframe\">\n",
       "  <thead>\n",
       "    <tr style=\"text-align: right;\">\n",
       "      <th></th>\n",
       "      <th>script_id</th>\n",
       "      <th>imdb_character_name</th>\n",
       "      <th>words</th>\n",
       "      <th>gender</th>\n",
       "      <th>age</th>\n",
       "      <th>imdb_id</th>\n",
       "      <th>title</th>\n",
       "      <th>year</th>\n",
       "      <th>gross</th>\n",
       "      <th>proportion_of_dialogue</th>\n",
       "    </tr>\n",
       "  </thead>\n",
       "  <tbody>\n",
       "    <tr>\n",
       "      <th>0</th>\n",
       "      <td>280</td>\n",
       "      <td>betty</td>\n",
       "      <td>311</td>\n",
       "      <td>f</td>\n",
       "      <td>35.0</td>\n",
       "      <td>tt0112579</td>\n",
       "      <td>The Bridges of Madison County</td>\n",
       "      <td>1995</td>\n",
       "      <td>142.0</td>\n",
       "      <td>0.048639</td>\n",
       "    </tr>\n",
       "    <tr>\n",
       "      <th>1</th>\n",
       "      <td>280</td>\n",
       "      <td>carolyn johnson</td>\n",
       "      <td>873</td>\n",
       "      <td>f</td>\n",
       "      <td>NaN</td>\n",
       "      <td>tt0112579</td>\n",
       "      <td>The Bridges of Madison County</td>\n",
       "      <td>1995</td>\n",
       "      <td>142.0</td>\n",
       "      <td>0.136534</td>\n",
       "    </tr>\n",
       "    <tr>\n",
       "      <th>2</th>\n",
       "      <td>280</td>\n",
       "      <td>eleanor</td>\n",
       "      <td>138</td>\n",
       "      <td>f</td>\n",
       "      <td>NaN</td>\n",
       "      <td>tt0112579</td>\n",
       "      <td>The Bridges of Madison County</td>\n",
       "      <td>1995</td>\n",
       "      <td>142.0</td>\n",
       "      <td>0.021583</td>\n",
       "    </tr>\n",
       "    <tr>\n",
       "      <th>3</th>\n",
       "      <td>280</td>\n",
       "      <td>francesca johns</td>\n",
       "      <td>2251</td>\n",
       "      <td>f</td>\n",
       "      <td>46.0</td>\n",
       "      <td>tt0112579</td>\n",
       "      <td>The Bridges of Madison County</td>\n",
       "      <td>1995</td>\n",
       "      <td>142.0</td>\n",
       "      <td>0.352049</td>\n",
       "    </tr>\n",
       "    <tr>\n",
       "      <th>4</th>\n",
       "      <td>280</td>\n",
       "      <td>madge</td>\n",
       "      <td>190</td>\n",
       "      <td>f</td>\n",
       "      <td>46.0</td>\n",
       "      <td>tt0112579</td>\n",
       "      <td>The Bridges of Madison County</td>\n",
       "      <td>1995</td>\n",
       "      <td>142.0</td>\n",
       "      <td>0.029715</td>\n",
       "    </tr>\n",
       "    <tr>\n",
       "      <th>...</th>\n",
       "      <td>...</td>\n",
       "      <td>...</td>\n",
       "      <td>...</td>\n",
       "      <td>...</td>\n",
       "      <td>...</td>\n",
       "      <td>...</td>\n",
       "      <td>...</td>\n",
       "      <td>...</td>\n",
       "      <td>...</td>\n",
       "      <td>...</td>\n",
       "    </tr>\n",
       "    <tr>\n",
       "      <th>23047</th>\n",
       "      <td>9254</td>\n",
       "      <td>maurice</td>\n",
       "      <td>1107</td>\n",
       "      <td>m</td>\n",
       "      <td>71.0</td>\n",
       "      <td>tt0101414</td>\n",
       "      <td>Beauty and the Beast</td>\n",
       "      <td>1991</td>\n",
       "      <td>452.0</td>\n",
       "      <td>0.108967</td>\n",
       "    </tr>\n",
       "    <tr>\n",
       "      <th>23048</th>\n",
       "      <td>9254</td>\n",
       "      <td>monsieur d'arqu</td>\n",
       "      <td>114</td>\n",
       "      <td>m</td>\n",
       "      <td>58.0</td>\n",
       "      <td>tt0101414</td>\n",
       "      <td>Beauty and the Beast</td>\n",
       "      <td>1991</td>\n",
       "      <td>452.0</td>\n",
       "      <td>0.011222</td>\n",
       "    </tr>\n",
       "    <tr>\n",
       "      <th>23049</th>\n",
       "      <td>9254</td>\n",
       "      <td>mrs. potts</td>\n",
       "      <td>564</td>\n",
       "      <td>f</td>\n",
       "      <td>66.0</td>\n",
       "      <td>tt0101414</td>\n",
       "      <td>Beauty and the Beast</td>\n",
       "      <td>1991</td>\n",
       "      <td>452.0</td>\n",
       "      <td>0.055517</td>\n",
       "    </tr>\n",
       "    <tr>\n",
       "      <th>23050</th>\n",
       "      <td>9254</td>\n",
       "      <td>wardrobe</td>\n",
       "      <td>121</td>\n",
       "      <td>f</td>\n",
       "      <td>54.0</td>\n",
       "      <td>tt0101414</td>\n",
       "      <td>Beauty and the Beast</td>\n",
       "      <td>1991</td>\n",
       "      <td>452.0</td>\n",
       "      <td>0.011911</td>\n",
       "    </tr>\n",
       "    <tr>\n",
       "      <th>23051</th>\n",
       "      <td>9254</td>\n",
       "      <td>mrs. potts</td>\n",
       "      <td>564</td>\n",
       "      <td>f</td>\n",
       "      <td>66.0</td>\n",
       "      <td>tt0101414</td>\n",
       "      <td>Beauty and the Beast</td>\n",
       "      <td>1991</td>\n",
       "      <td>452.0</td>\n",
       "      <td>0.055517</td>\n",
       "    </tr>\n",
       "  </tbody>\n",
       "</table>\n",
       "<p>23052 rows × 10 columns</p>\n",
       "</div>"
      ],
      "text/plain": [
       "       script_id imdb_character_name  words gender   age    imdb_id  \\\n",
       "0            280               betty    311      f  35.0  tt0112579   \n",
       "1            280     carolyn johnson    873      f   NaN  tt0112579   \n",
       "2            280             eleanor    138      f   NaN  tt0112579   \n",
       "3            280     francesca johns   2251      f  46.0  tt0112579   \n",
       "4            280               madge    190      f  46.0  tt0112579   \n",
       "...          ...                 ...    ...    ...   ...        ...   \n",
       "23047       9254             maurice   1107      m  71.0  tt0101414   \n",
       "23048       9254     monsieur d'arqu    114      m  58.0  tt0101414   \n",
       "23049       9254          mrs. potts    564      f  66.0  tt0101414   \n",
       "23050       9254            wardrobe    121      f  54.0  tt0101414   \n",
       "23051       9254          mrs. potts    564      f  66.0  tt0101414   \n",
       "\n",
       "                               title  year  gross  proportion_of_dialogue  \n",
       "0      The Bridges of Madison County  1995  142.0                0.048639  \n",
       "1      The Bridges of Madison County  1995  142.0                0.136534  \n",
       "2      The Bridges of Madison County  1995  142.0                0.021583  \n",
       "3      The Bridges of Madison County  1995  142.0                0.352049  \n",
       "4      The Bridges of Madison County  1995  142.0                0.029715  \n",
       "...                              ...   ...    ...                     ...  \n",
       "23047           Beauty and the Beast  1991  452.0                0.108967  \n",
       "23048           Beauty and the Beast  1991  452.0                0.011222  \n",
       "23049           Beauty and the Beast  1991  452.0                0.055517  \n",
       "23050           Beauty and the Beast  1991  452.0                0.011911  \n",
       "23051           Beauty and the Beast  1991  452.0                0.055517  \n",
       "\n",
       "[23052 rows x 10 columns]"
      ]
     },
     "execution_count": 4,
     "metadata": {},
     "output_type": "execute_result"
    }
   ],
   "source": [
    "film_df"
   ]
  },
  {
   "cell_type": "markdown",
   "metadata": {},
   "source": [
    "There are a few important things to note about the DataFrame displayed here:\n",
    "\n",
    "* Index\n",
    "    * The bolded ascending numbers in the very left-hand column of the DataFrame is called the Pandas *Index*. You can select rows based on the Index.\n",
    "    * By default, the Index is a sequence of numbers starting with zero. However, you can change the Index to something else, such as one of the columns in your dataset.\n",
    "\n",
    "* Truncation\n",
    "    * The DataFrame is truncated, signaled by the ellipses in the middle `...` of every column.\n",
    "    * The DataFrame is truncated because we set our default display settings to 100 rows. Anything more than 100 rows will be truncated. To display all the rows, we would need to alter Pandas' default display settings yet again.\n",
    "\n",
    "* Rows x Columns\n",
    "    * Pandas reports how many rows and columns are in this dataset at the bottom of the output (23,052 x 10 columns)."
   ]
  },
  {
   "cell_type": "markdown",
   "metadata": {},
   "source": [
    "### 2.5 Display First *n* Rows\n",
    "\n",
    "To look at the first *n* rows in a DataFrame, we can use a method called `.head()`."
   ]
  },
  {
   "cell_type": "code",
   "execution_count": 21,
   "metadata": {},
   "outputs": [
    {
     "data": {
      "text/html": [
       "<div>\n",
       "<style scoped>\n",
       "    .dataframe tbody tr th:only-of-type {\n",
       "        vertical-align: middle;\n",
       "    }\n",
       "\n",
       "    .dataframe tbody tr th {\n",
       "        vertical-align: top;\n",
       "    }\n",
       "\n",
       "    .dataframe thead th {\n",
       "        text-align: right;\n",
       "    }\n",
       "</style>\n",
       "<table border=\"1\" class=\"dataframe\">\n",
       "  <thead>\n",
       "    <tr style=\"text-align: right;\">\n",
       "      <th></th>\n",
       "      <th>script_id</th>\n",
       "      <th>imdb_character_name</th>\n",
       "      <th>words</th>\n",
       "      <th>gender</th>\n",
       "      <th>age</th>\n",
       "      <th>imdb_id</th>\n",
       "      <th>title</th>\n",
       "      <th>year</th>\n",
       "      <th>gross</th>\n",
       "      <th>proportion_of_dialogue</th>\n",
       "    </tr>\n",
       "  </thead>\n",
       "  <tbody>\n",
       "    <tr>\n",
       "      <th>0</th>\n",
       "      <td>280</td>\n",
       "      <td>betty</td>\n",
       "      <td>311</td>\n",
       "      <td>f</td>\n",
       "      <td>35.0</td>\n",
       "      <td>tt0112579</td>\n",
       "      <td>The Bridges of Madison County</td>\n",
       "      <td>1995</td>\n",
       "      <td>142.0</td>\n",
       "      <td>0.048639</td>\n",
       "    </tr>\n",
       "    <tr>\n",
       "      <th>1</th>\n",
       "      <td>280</td>\n",
       "      <td>carolyn johnson</td>\n",
       "      <td>873</td>\n",
       "      <td>f</td>\n",
       "      <td>NaN</td>\n",
       "      <td>tt0112579</td>\n",
       "      <td>The Bridges of Madison County</td>\n",
       "      <td>1995</td>\n",
       "      <td>142.0</td>\n",
       "      <td>0.136534</td>\n",
       "    </tr>\n",
       "    <tr>\n",
       "      <th>2</th>\n",
       "      <td>280</td>\n",
       "      <td>eleanor</td>\n",
       "      <td>138</td>\n",
       "      <td>f</td>\n",
       "      <td>NaN</td>\n",
       "      <td>tt0112579</td>\n",
       "      <td>The Bridges of Madison County</td>\n",
       "      <td>1995</td>\n",
       "      <td>142.0</td>\n",
       "      <td>0.021583</td>\n",
       "    </tr>\n",
       "    <tr>\n",
       "      <th>3</th>\n",
       "      <td>280</td>\n",
       "      <td>francesca johns</td>\n",
       "      <td>2251</td>\n",
       "      <td>f</td>\n",
       "      <td>46.0</td>\n",
       "      <td>tt0112579</td>\n",
       "      <td>The Bridges of Madison County</td>\n",
       "      <td>1995</td>\n",
       "      <td>142.0</td>\n",
       "      <td>0.352049</td>\n",
       "    </tr>\n",
       "    <tr>\n",
       "      <th>4</th>\n",
       "      <td>280</td>\n",
       "      <td>madge</td>\n",
       "      <td>190</td>\n",
       "      <td>f</td>\n",
       "      <td>46.0</td>\n",
       "      <td>tt0112579</td>\n",
       "      <td>The Bridges of Madison County</td>\n",
       "      <td>1995</td>\n",
       "      <td>142.0</td>\n",
       "      <td>0.029715</td>\n",
       "    </tr>\n",
       "    <tr>\n",
       "      <th>5</th>\n",
       "      <td>280</td>\n",
       "      <td>michael johnson</td>\n",
       "      <td>723</td>\n",
       "      <td>m</td>\n",
       "      <td>38.0</td>\n",
       "      <td>tt0112579</td>\n",
       "      <td>The Bridges of Madison County</td>\n",
       "      <td>1995</td>\n",
       "      <td>142.0</td>\n",
       "      <td>0.113075</td>\n",
       "    </tr>\n",
       "    <tr>\n",
       "      <th>6</th>\n",
       "      <td>280</td>\n",
       "      <td>robert kincaid</td>\n",
       "      <td>1908</td>\n",
       "      <td>m</td>\n",
       "      <td>65.0</td>\n",
       "      <td>tt0112579</td>\n",
       "      <td>The Bridges of Madison County</td>\n",
       "      <td>1995</td>\n",
       "      <td>142.0</td>\n",
       "      <td>0.298405</td>\n",
       "    </tr>\n",
       "    <tr>\n",
       "      <th>7</th>\n",
       "      <td>623</td>\n",
       "      <td>bobby korfin</td>\n",
       "      <td>328</td>\n",
       "      <td>m</td>\n",
       "      <td>NaN</td>\n",
       "      <td>tt0179626</td>\n",
       "      <td>15 Minutes</td>\n",
       "      <td>2001</td>\n",
       "      <td>37.0</td>\n",
       "      <td>0.036012</td>\n",
       "    </tr>\n",
       "    <tr>\n",
       "      <th>8</th>\n",
       "      <td>623</td>\n",
       "      <td>daphne handlova</td>\n",
       "      <td>409</td>\n",
       "      <td>f</td>\n",
       "      <td>28.0</td>\n",
       "      <td>tt0179626</td>\n",
       "      <td>15 Minutes</td>\n",
       "      <td>2001</td>\n",
       "      <td>37.0</td>\n",
       "      <td>0.044906</td>\n",
       "    </tr>\n",
       "    <tr>\n",
       "      <th>9</th>\n",
       "      <td>623</td>\n",
       "      <td>deputy chief fi</td>\n",
       "      <td>347</td>\n",
       "      <td>m</td>\n",
       "      <td>NaN</td>\n",
       "      <td>tt0179626</td>\n",
       "      <td>15 Minutes</td>\n",
       "      <td>2001</td>\n",
       "      <td>37.0</td>\n",
       "      <td>0.038098</td>\n",
       "    </tr>\n",
       "  </tbody>\n",
       "</table>\n",
       "</div>"
      ],
      "text/plain": [
       "   script_id imdb_character_name  words gender   age    imdb_id  \\\n",
       "0        280               betty    311      f  35.0  tt0112579   \n",
       "1        280     carolyn johnson    873      f   NaN  tt0112579   \n",
       "2        280             eleanor    138      f   NaN  tt0112579   \n",
       "3        280     francesca johns   2251      f  46.0  tt0112579   \n",
       "4        280               madge    190      f  46.0  tt0112579   \n",
       "5        280     michael johnson    723      m  38.0  tt0112579   \n",
       "6        280      robert kincaid   1908      m  65.0  tt0112579   \n",
       "7        623        bobby korfin    328      m   NaN  tt0179626   \n",
       "8        623     daphne handlova    409      f  28.0  tt0179626   \n",
       "9        623     deputy chief fi    347      m   NaN  tt0179626   \n",
       "\n",
       "                           title  year  gross  proportion_of_dialogue  \n",
       "0  The Bridges of Madison County  1995  142.0                0.048639  \n",
       "1  The Bridges of Madison County  1995  142.0                0.136534  \n",
       "2  The Bridges of Madison County  1995  142.0                0.021583  \n",
       "3  The Bridges of Madison County  1995  142.0                0.352049  \n",
       "4  The Bridges of Madison County  1995  142.0                0.029715  \n",
       "5  The Bridges of Madison County  1995  142.0                0.113075  \n",
       "6  The Bridges of Madison County  1995  142.0                0.298405  \n",
       "7                     15 Minutes  2001   37.0                0.036012  \n",
       "8                     15 Minutes  2001   37.0                0.044906  \n",
       "9                     15 Minutes  2001   37.0                0.038098  "
      ]
     },
     "execution_count": 21,
     "metadata": {},
     "output_type": "execute_result"
    }
   ],
   "source": [
    "film_df.head(10)"
   ]
  },
  {
   "cell_type": "markdown",
   "metadata": {},
   "source": [
    "### 2.6 Display Random Sample"
   ]
  },
  {
   "cell_type": "markdown",
   "metadata": {},
   "source": [
    "To look at a random sample of rows, we can use the `.sample()` method."
   ]
  },
  {
   "cell_type": "code",
   "execution_count": 22,
   "metadata": {},
   "outputs": [
    {
     "data": {
      "text/html": [
       "<div>\n",
       "<style scoped>\n",
       "    .dataframe tbody tr th:only-of-type {\n",
       "        vertical-align: middle;\n",
       "    }\n",
       "\n",
       "    .dataframe tbody tr th {\n",
       "        vertical-align: top;\n",
       "    }\n",
       "\n",
       "    .dataframe thead th {\n",
       "        text-align: right;\n",
       "    }\n",
       "</style>\n",
       "<table border=\"1\" class=\"dataframe\">\n",
       "  <thead>\n",
       "    <tr style=\"text-align: right;\">\n",
       "      <th></th>\n",
       "      <th>script_id</th>\n",
       "      <th>imdb_character_name</th>\n",
       "      <th>words</th>\n",
       "      <th>gender</th>\n",
       "      <th>age</th>\n",
       "      <th>imdb_id</th>\n",
       "      <th>title</th>\n",
       "      <th>year</th>\n",
       "      <th>gross</th>\n",
       "      <th>proportion_of_dialogue</th>\n",
       "    </tr>\n",
       "  </thead>\n",
       "  <tbody>\n",
       "    <tr>\n",
       "      <th>3519</th>\n",
       "      <td>1483</td>\n",
       "      <td>auntie em</td>\n",
       "      <td>295</td>\n",
       "      <td>f</td>\n",
       "      <td>63.0</td>\n",
       "      <td>tt0032138</td>\n",
       "      <td>The Wizard of Oz</td>\n",
       "      <td>1939</td>\n",
       "      <td>839.0</td>\n",
       "      <td>0.031426</td>\n",
       "    </tr>\n",
       "    <tr>\n",
       "      <th>5395</th>\n",
       "      <td>1991</td>\n",
       "      <td>holden mcneil</td>\n",
       "      <td>9462</td>\n",
       "      <td>m</td>\n",
       "      <td>25.0</td>\n",
       "      <td>tt0118842</td>\n",
       "      <td>Chasing Amy</td>\n",
       "      <td>1997</td>\n",
       "      <td>22.0</td>\n",
       "      <td>0.300973</td>\n",
       "    </tr>\n",
       "    <tr>\n",
       "      <th>5238</th>\n",
       "      <td>1957</td>\n",
       "      <td>lightning mcque</td>\n",
       "      <td>1968</td>\n",
       "      <td>m</td>\n",
       "      <td>43.0</td>\n",
       "      <td>tt1216475</td>\n",
       "      <td>Cars 2</td>\n",
       "      <td>2011</td>\n",
       "      <td>209.0</td>\n",
       "      <td>0.155622</td>\n",
       "    </tr>\n",
       "    <tr>\n",
       "      <th>2992</th>\n",
       "      <td>1350</td>\n",
       "      <td>tariq asani</td>\n",
       "      <td>267</td>\n",
       "      <td>m</td>\n",
       "      <td>31.0</td>\n",
       "      <td>tt0360009</td>\n",
       "      <td>Spartan</td>\n",
       "      <td>2004</td>\n",
       "      <td>6.0</td>\n",
       "      <td>0.043337</td>\n",
       "    </tr>\n",
       "    <tr>\n",
       "      <th>18281</th>\n",
       "      <td>6858</td>\n",
       "      <td>mara</td>\n",
       "      <td>568</td>\n",
       "      <td>f</td>\n",
       "      <td>NaN</td>\n",
       "      <td>tt0114852</td>\n",
       "      <td>Village of the Damned</td>\n",
       "      <td>1995</td>\n",
       "      <td>18.0</td>\n",
       "      <td>0.099006</td>\n",
       "    </tr>\n",
       "    <tr>\n",
       "      <th>8333</th>\n",
       "      <td>2764</td>\n",
       "      <td>nurse #1</td>\n",
       "      <td>162</td>\n",
       "      <td>f</td>\n",
       "      <td>37.0</td>\n",
       "      <td>tt0264796</td>\n",
       "      <td>Life as a House</td>\n",
       "      <td>2001</td>\n",
       "      <td>23.0</td>\n",
       "      <td>0.007482</td>\n",
       "    </tr>\n",
       "    <tr>\n",
       "      <th>13345</th>\n",
       "      <td>4394</td>\n",
       "      <td>jonathan</td>\n",
       "      <td>1168</td>\n",
       "      <td>m</td>\n",
       "      <td>47.0</td>\n",
       "      <td>tt1691920</td>\n",
       "      <td>I Melt with You</td>\n",
       "      <td>2011</td>\n",
       "      <td>NaN</td>\n",
       "      <td>0.159041</td>\n",
       "    </tr>\n",
       "    <tr>\n",
       "      <th>16889</th>\n",
       "      <td>6053</td>\n",
       "      <td>bomber</td>\n",
       "      <td>392</td>\n",
       "      <td>m</td>\n",
       "      <td>NaN</td>\n",
       "      <td>tt1532958</td>\n",
       "      <td>Battle of the Year</td>\n",
       "      <td>2013</td>\n",
       "      <td>9.0</td>\n",
       "      <td>0.035617</td>\n",
       "    </tr>\n",
       "    <tr>\n",
       "      <th>15704</th>\n",
       "      <td>5297</td>\n",
       "      <td>mr. green</td>\n",
       "      <td>825</td>\n",
       "      <td>m</td>\n",
       "      <td>38.0</td>\n",
       "      <td>tt0088930</td>\n",
       "      <td>Clue</td>\n",
       "      <td>1985</td>\n",
       "      <td>7.0</td>\n",
       "      <td>0.087701</td>\n",
       "    </tr>\n",
       "    <tr>\n",
       "      <th>75</th>\n",
       "      <td>642</td>\n",
       "      <td>kurt zagon</td>\n",
       "      <td>914</td>\n",
       "      <td>m</td>\n",
       "      <td>60.0</td>\n",
       "      <td>tt0094602</td>\n",
       "      <td>Above the Law</td>\n",
       "      <td>1988</td>\n",
       "      <td>40.0</td>\n",
       "      <td>0.116522</td>\n",
       "    </tr>\n",
       "  </tbody>\n",
       "</table>\n",
       "</div>"
      ],
      "text/plain": [
       "       script_id imdb_character_name  words gender   age    imdb_id  \\\n",
       "3519        1483           auntie em    295      f  63.0  tt0032138   \n",
       "5395        1991       holden mcneil   9462      m  25.0  tt0118842   \n",
       "5238        1957     lightning mcque   1968      m  43.0  tt1216475   \n",
       "2992        1350         tariq asani    267      m  31.0  tt0360009   \n",
       "18281       6858                mara    568      f   NaN  tt0114852   \n",
       "8333        2764            nurse #1    162      f  37.0  tt0264796   \n",
       "13345       4394            jonathan   1168      m  47.0  tt1691920   \n",
       "16889       6053              bomber    392      m   NaN  tt1532958   \n",
       "15704       5297           mr. green    825      m  38.0  tt0088930   \n",
       "75           642          kurt zagon    914      m  60.0  tt0094602   \n",
       "\n",
       "                       title  year  gross  proportion_of_dialogue  \n",
       "3519        The Wizard of Oz  1939  839.0                0.031426  \n",
       "5395             Chasing Amy  1997   22.0                0.300973  \n",
       "5238                  Cars 2  2011  209.0                0.155622  \n",
       "2992                 Spartan  2004    6.0                0.043337  \n",
       "18281  Village of the Damned  1995   18.0                0.099006  \n",
       "8333         Life as a House  2001   23.0                0.007482  \n",
       "13345        I Melt with You  2011    NaN                0.159041  \n",
       "16889     Battle of the Year  2013    9.0                0.035617  \n",
       "15704                   Clue  1985    7.0                0.087701  \n",
       "75             Above the Law  1988   40.0                0.116522  "
      ]
     },
     "execution_count": 22,
     "metadata": {},
     "output_type": "execute_result"
    }
   ],
   "source": [
    "film_df.sample(10)"
   ]
  },
  {
   "cell_type": "markdown",
   "metadata": {},
   "source": [
    "### 2.7 Examine Data"
   ]
  },
  {
   "cell_type": "markdown",
   "metadata": {},
   "source": [
    "**Shape**"
   ]
  },
  {
   "cell_type": "markdown",
   "metadata": {},
   "source": [
    "To explicitly check for how many rows vs columns make up a dataset, we can use the `.shape` method."
   ]
  },
  {
   "cell_type": "code",
   "execution_count": 23,
   "metadata": {},
   "outputs": [
    {
     "data": {
      "text/plain": [
       "(23052, 10)"
      ]
     },
     "execution_count": 23,
     "metadata": {},
     "output_type": "execute_result"
    }
   ],
   "source": [
    "film_df.shape"
   ]
  },
  {
   "cell_type": "markdown",
   "metadata": {},
   "source": [
    "There are 23,052 rows and 10 columns."
   ]
  },
  {
   "cell_type": "markdown",
   "metadata": {},
   "source": [
    "### 2.8 Reminder: Data Types"
   ]
  },
  {
   "cell_type": "markdown",
   "metadata": {},
   "source": [
    "Just like Python has different data types, Pandas has different data types, too. These data types are automatically assigned to columns when we read in a CSV file. We can check these Pandas data types with the [`.dtypes` method](https://pandas.pydata.org/pandas-docs/stable/reference/api/pandas.DataFrame.dtypes.html)."
   ]
  },
  {
   "cell_type": "markdown",
   "metadata": {},
   "source": [
    "\n",
    "\n",
    "| **Pandas Data Type** |  **Explanation**                                                                                   |\n",
    "|:-------------:|:---------------------------------------------------------------------------------------------------:|\n",
    "| `object`         | string                                                                               |\n",
    "| `float64`         | float                                               |\n",
    "| `int64`       | integer                                                        |\n",
    "| `datetime64`       |  date time              "
   ]
  },
  {
   "cell_type": "code",
   "execution_count": 24,
   "metadata": {},
   "outputs": [
    {
     "data": {
      "text/plain": [
       "script_id                   int64\n",
       "imdb_character_name        object\n",
       "words                       int64\n",
       "gender                     object\n",
       "age                       float64\n",
       "imdb_id                    object\n",
       "title                      object\n",
       "year                        int64\n",
       "gross                     float64\n",
       "proportion_of_dialogue    float64\n",
       "dtype: object"
      ]
     },
     "execution_count": 24,
     "metadata": {},
     "output_type": "execute_result"
    }
   ],
   "source": [
    "film_df.dtypes"
   ]
  },
  {
   "cell_type": "markdown",
   "metadata": {},
   "source": [
    "It's important to always check the data types in your DataFrame. For example, sometimes numeric values will accidentally be interpreted as a string object. To perform calculations on this data, you would need to first convert that column from a string to an integer."
   ]
  },
  {
   "cell_type": "markdown",
   "metadata": {},
   "source": [
    "### 2.9 Columns"
   ]
  },
  {
   "cell_type": "markdown",
   "metadata": {},
   "source": [
    "We can also check the column names of the DataFrame with [`.columns`](https://pandas.pydata.org/pandas-docs/stable/reference/api/pandas.DataFrame.columns.html)"
   ]
  },
  {
   "cell_type": "code",
   "execution_count": 25,
   "metadata": {},
   "outputs": [
    {
     "data": {
      "text/plain": [
       "Index(['script_id', 'imdb_character_name', 'words', 'gender', 'age', 'imdb_id',\n",
       "       'title', 'year', 'gross', 'proportion_of_dialogue'],\n",
       "      dtype='object')"
      ]
     },
     "execution_count": 25,
     "metadata": {},
     "output_type": "execute_result"
    }
   ],
   "source": [
    "film_df.columns"
   ]
  },
  {
   "cell_type": "markdown",
   "metadata": {},
   "source": [
    "## 3. Summary Statistics &amp; Data Processing"
   ]
  },
  {
   "cell_type": "markdown",
   "metadata": {},
   "source": [
    "Summary stats can help us spot initial patterns or even issues in the data."
   ]
  },
  {
   "cell_type": "code",
   "execution_count": 26,
   "metadata": {},
   "outputs": [
    {
     "data": {
      "text/html": [
       "<div>\n",
       "<style scoped>\n",
       "    .dataframe tbody tr th:only-of-type {\n",
       "        vertical-align: middle;\n",
       "    }\n",
       "\n",
       "    .dataframe tbody tr th {\n",
       "        vertical-align: top;\n",
       "    }\n",
       "\n",
       "    .dataframe thead th {\n",
       "        text-align: right;\n",
       "    }\n",
       "</style>\n",
       "<table border=\"1\" class=\"dataframe\">\n",
       "  <thead>\n",
       "    <tr style=\"text-align: right;\">\n",
       "      <th></th>\n",
       "      <th>script_id</th>\n",
       "      <th>imdb_character_name</th>\n",
       "      <th>words</th>\n",
       "      <th>gender</th>\n",
       "      <th>age</th>\n",
       "      <th>imdb_id</th>\n",
       "      <th>title</th>\n",
       "      <th>year</th>\n",
       "      <th>gross</th>\n",
       "      <th>proportion_of_dialogue</th>\n",
       "    </tr>\n",
       "  </thead>\n",
       "  <tbody>\n",
       "    <tr>\n",
       "      <th>count</th>\n",
       "      <td>23052.000000</td>\n",
       "      <td>23050</td>\n",
       "      <td>23052.000000</td>\n",
       "      <td>23052</td>\n",
       "      <td>18266.000000</td>\n",
       "      <td>23052</td>\n",
       "      <td>23052</td>\n",
       "      <td>23052.000000</td>\n",
       "      <td>19390.000000</td>\n",
       "      <td>23052.000000</td>\n",
       "    </tr>\n",
       "    <tr>\n",
       "      <th>unique</th>\n",
       "      <td>NaN</td>\n",
       "      <td>17613</td>\n",
       "      <td>NaN</td>\n",
       "      <td>3</td>\n",
       "      <td>NaN</td>\n",
       "      <td>2000</td>\n",
       "      <td>1994</td>\n",
       "      <td>NaN</td>\n",
       "      <td>NaN</td>\n",
       "      <td>NaN</td>\n",
       "    </tr>\n",
       "    <tr>\n",
       "      <th>top</th>\n",
       "      <td>NaN</td>\n",
       "      <td>doctor</td>\n",
       "      <td>NaN</td>\n",
       "      <td>m</td>\n",
       "      <td>NaN</td>\n",
       "      <td>tt0116905</td>\n",
       "      <td>Lone Star</td>\n",
       "      <td>NaN</td>\n",
       "      <td>NaN</td>\n",
       "      <td>NaN</td>\n",
       "    </tr>\n",
       "    <tr>\n",
       "      <th>freq</th>\n",
       "      <td>NaN</td>\n",
       "      <td>36</td>\n",
       "      <td>NaN</td>\n",
       "      <td>16135</td>\n",
       "      <td>NaN</td>\n",
       "      <td>40</td>\n",
       "      <td>40</td>\n",
       "      <td>NaN</td>\n",
       "      <td>NaN</td>\n",
       "      <td>NaN</td>\n",
       "    </tr>\n",
       "    <tr>\n",
       "      <th>mean</th>\n",
       "      <td>4195.580904</td>\n",
       "      <td>NaN</td>\n",
       "      <td>907.870684</td>\n",
       "      <td>NaN</td>\n",
       "      <td>42.386839</td>\n",
       "      <td>NaN</td>\n",
       "      <td>NaN</td>\n",
       "      <td>1998.133828</td>\n",
       "      <td>106.805570</td>\n",
       "      <td>0.086512</td>\n",
       "    </tr>\n",
       "    <tr>\n",
       "      <th>std</th>\n",
       "      <td>2473.518048</td>\n",
       "      <td>NaN</td>\n",
       "      <td>1399.538583</td>\n",
       "      <td>NaN</td>\n",
       "      <td>59.714730</td>\n",
       "      <td>NaN</td>\n",
       "      <td>NaN</td>\n",
       "      <td>14.745342</td>\n",
       "      <td>145.992394</td>\n",
       "      <td>0.107740</td>\n",
       "    </tr>\n",
       "    <tr>\n",
       "      <th>min</th>\n",
       "      <td>280.000000</td>\n",
       "      <td>NaN</td>\n",
       "      <td>101.000000</td>\n",
       "      <td>NaN</td>\n",
       "      <td>3.000000</td>\n",
       "      <td>NaN</td>\n",
       "      <td>NaN</td>\n",
       "      <td>1929.000000</td>\n",
       "      <td>0.000000</td>\n",
       "      <td>0.001537</td>\n",
       "    </tr>\n",
       "    <tr>\n",
       "      <th>25%</th>\n",
       "      <td>2095.000000</td>\n",
       "      <td>NaN</td>\n",
       "      <td>193.000000</td>\n",
       "      <td>NaN</td>\n",
       "      <td>30.000000</td>\n",
       "      <td>NaN</td>\n",
       "      <td>NaN</td>\n",
       "      <td>1992.000000</td>\n",
       "      <td>22.000000</td>\n",
       "      <td>0.019771</td>\n",
       "    </tr>\n",
       "    <tr>\n",
       "      <th>50%</th>\n",
       "      <td>3694.000000</td>\n",
       "      <td>NaN</td>\n",
       "      <td>396.000000</td>\n",
       "      <td>NaN</td>\n",
       "      <td>39.000000</td>\n",
       "      <td>NaN</td>\n",
       "      <td>NaN</td>\n",
       "      <td>2001.000000</td>\n",
       "      <td>56.000000</td>\n",
       "      <td>0.042421</td>\n",
       "    </tr>\n",
       "    <tr>\n",
       "      <th>75%</th>\n",
       "      <td>6234.000000</td>\n",
       "      <td>NaN</td>\n",
       "      <td>980.000000</td>\n",
       "      <td>NaN</td>\n",
       "      <td>50.000000</td>\n",
       "      <td>NaN</td>\n",
       "      <td>NaN</td>\n",
       "      <td>2009.000000</td>\n",
       "      <td>136.000000</td>\n",
       "      <td>0.104166</td>\n",
       "    </tr>\n",
       "    <tr>\n",
       "      <th>max</th>\n",
       "      <td>9254.000000</td>\n",
       "      <td>NaN</td>\n",
       "      <td>28102.000000</td>\n",
       "      <td>NaN</td>\n",
       "      <td>2013.000000</td>\n",
       "      <td>NaN</td>\n",
       "      <td>NaN</td>\n",
       "      <td>2015.000000</td>\n",
       "      <td>1798.000000</td>\n",
       "      <td>0.923422</td>\n",
       "    </tr>\n",
       "  </tbody>\n",
       "</table>\n",
       "</div>"
      ],
      "text/plain": [
       "           script_id imdb_character_name         words gender           age  \\\n",
       "count   23052.000000               23050  23052.000000  23052  18266.000000   \n",
       "unique           NaN               17613           NaN      3           NaN   \n",
       "top              NaN              doctor           NaN      m           NaN   \n",
       "freq             NaN                  36           NaN  16135           NaN   \n",
       "mean     4195.580904                 NaN    907.870684    NaN     42.386839   \n",
       "std      2473.518048                 NaN   1399.538583    NaN     59.714730   \n",
       "min       280.000000                 NaN    101.000000    NaN      3.000000   \n",
       "25%      2095.000000                 NaN    193.000000    NaN     30.000000   \n",
       "50%      3694.000000                 NaN    396.000000    NaN     39.000000   \n",
       "75%      6234.000000                 NaN    980.000000    NaN     50.000000   \n",
       "max      9254.000000                 NaN  28102.000000    NaN   2013.000000   \n",
       "\n",
       "          imdb_id      title          year         gross  \\\n",
       "count       23052      23052  23052.000000  19390.000000   \n",
       "unique       2000       1994           NaN           NaN   \n",
       "top     tt0116905  Lone Star           NaN           NaN   \n",
       "freq           40         40           NaN           NaN   \n",
       "mean          NaN        NaN   1998.133828    106.805570   \n",
       "std           NaN        NaN     14.745342    145.992394   \n",
       "min           NaN        NaN   1929.000000      0.000000   \n",
       "25%           NaN        NaN   1992.000000     22.000000   \n",
       "50%           NaN        NaN   2001.000000     56.000000   \n",
       "75%           NaN        NaN   2009.000000    136.000000   \n",
       "max           NaN        NaN   2015.000000   1798.000000   \n",
       "\n",
       "        proportion_of_dialogue  \n",
       "count             23052.000000  \n",
       "unique                     NaN  \n",
       "top                        NaN  \n",
       "freq                       NaN  \n",
       "mean                  0.086512  \n",
       "std                   0.107740  \n",
       "min                   0.001537  \n",
       "25%                   0.019771  \n",
       "50%                   0.042421  \n",
       "75%                   0.104166  \n",
       "max                   0.923422  "
      ]
     },
     "execution_count": 26,
     "metadata": {},
     "output_type": "execute_result"
    }
   ],
   "source": [
    "film_df.describe(include='all')"
   ]
  },
  {
   "cell_type": "markdown",
   "metadata": {},
   "source": [
    "**Read the data for any outliers, anomalies, or potential problems.**\n",
    "\n",
    "Notice how the maximum value in the \"age\" column is 2013! That seems like an error."
   ]
  },
  {
   "cell_type": "code",
   "execution_count": 27,
   "metadata": {},
   "outputs": [
    {
     "data": {
      "text/html": [
       "<div>\n",
       "<style scoped>\n",
       "    .dataframe tbody tr th:only-of-type {\n",
       "        vertical-align: middle;\n",
       "    }\n",
       "\n",
       "    .dataframe tbody tr th {\n",
       "        vertical-align: top;\n",
       "    }\n",
       "\n",
       "    .dataframe thead th {\n",
       "        text-align: right;\n",
       "    }\n",
       "</style>\n",
       "<table border=\"1\" class=\"dataframe\">\n",
       "  <thead>\n",
       "    <tr style=\"text-align: right;\">\n",
       "      <th></th>\n",
       "      <th>script_id</th>\n",
       "      <th>imdb_character_name</th>\n",
       "      <th>words</th>\n",
       "      <th>gender</th>\n",
       "      <th>age</th>\n",
       "      <th>imdb_id</th>\n",
       "      <th>title</th>\n",
       "      <th>year</th>\n",
       "      <th>gross</th>\n",
       "      <th>proportion_of_dialogue</th>\n",
       "    </tr>\n",
       "  </thead>\n",
       "  <tbody>\n",
       "    <tr>\n",
       "      <th>11639</th>\n",
       "      <td>3737</td>\n",
       "      <td>lucas solomon</td>\n",
       "      <td>190</td>\n",
       "      <td>m</td>\n",
       "      <td>2013.0</td>\n",
       "      <td>tt0993846</td>\n",
       "      <td>The Wolf of Wall Street</td>\n",
       "      <td>2013</td>\n",
       "      <td>125.0</td>\n",
       "      <td>0.011077</td>\n",
       "    </tr>\n",
       "  </tbody>\n",
       "</table>\n",
       "</div>"
      ],
      "text/plain": [
       "       script_id imdb_character_name  words gender     age    imdb_id  \\\n",
       "11639       3737       lucas solomon    190      m  2013.0  tt0993846   \n",
       "\n",
       "                         title  year  gross  proportion_of_dialogue  \n",
       "11639  The Wolf of Wall Street  2013  125.0                0.011077  "
      ]
     },
     "execution_count": 27,
     "metadata": {},
     "output_type": "execute_result"
    }
   ],
   "source": [
    "film_df[film_df['age'] == 2013]"
   ]
  },
  {
   "cell_type": "markdown",
   "metadata": {},
   "source": [
    "Let's drop this row from the dataset by using the `.drop()` method and the Index number of the row."
   ]
  },
  {
   "cell_type": "code",
   "execution_count": 28,
   "metadata": {},
   "outputs": [],
   "source": [
    "film_df = film_df.drop(11639)"
   ]
  },
  {
   "cell_type": "markdown",
   "metadata": {},
   "source": [
    "Now if we look for it again, that row is gone."
   ]
  },
  {
   "cell_type": "code",
   "execution_count": 29,
   "metadata": {},
   "outputs": [
    {
     "data": {
      "text/html": [
       "<div>\n",
       "<style scoped>\n",
       "    .dataframe tbody tr th:only-of-type {\n",
       "        vertical-align: middle;\n",
       "    }\n",
       "\n",
       "    .dataframe tbody tr th {\n",
       "        vertical-align: top;\n",
       "    }\n",
       "\n",
       "    .dataframe thead th {\n",
       "        text-align: right;\n",
       "    }\n",
       "</style>\n",
       "<table border=\"1\" class=\"dataframe\">\n",
       "  <thead>\n",
       "    <tr style=\"text-align: right;\">\n",
       "      <th></th>\n",
       "      <th>script_id</th>\n",
       "      <th>imdb_character_name</th>\n",
       "      <th>words</th>\n",
       "      <th>gender</th>\n",
       "      <th>age</th>\n",
       "      <th>imdb_id</th>\n",
       "      <th>title</th>\n",
       "      <th>year</th>\n",
       "      <th>gross</th>\n",
       "      <th>proportion_of_dialogue</th>\n",
       "    </tr>\n",
       "  </thead>\n",
       "  <tbody>\n",
       "  </tbody>\n",
       "</table>\n",
       "</div>"
      ],
      "text/plain": [
       "Empty DataFrame\n",
       "Columns: [script_id, imdb_character_name, words, gender, age, imdb_id, title, year, gross, proportion_of_dialogue]\n",
       "Index: []"
      ]
     },
     "execution_count": 29,
     "metadata": {},
     "output_type": "execute_result"
    }
   ],
   "source": [
    "film_df[film_df['age'] == 2013]"
   ]
  },
  {
   "cell_type": "markdown",
   "metadata": {},
   "source": [
    "### 3.1 Rename Columns"
   ]
  },
  {
   "cell_type": "code",
   "execution_count": 30,
   "metadata": {},
   "outputs": [],
   "source": [
    "film_df = film_df.rename(columns={'imdb_character_name': 'character', 'year': 'release_year'})"
   ]
  },
  {
   "cell_type": "code",
   "execution_count": 31,
   "metadata": {
    "tags": [
     "full-width"
    ]
   },
   "outputs": [
    {
     "data": {
      "text/html": [
       "<div>\n",
       "<style scoped>\n",
       "    .dataframe tbody tr th:only-of-type {\n",
       "        vertical-align: middle;\n",
       "    }\n",
       "\n",
       "    .dataframe tbody tr th {\n",
       "        vertical-align: top;\n",
       "    }\n",
       "\n",
       "    .dataframe thead th {\n",
       "        text-align: right;\n",
       "    }\n",
       "</style>\n",
       "<table border=\"1\" class=\"dataframe\">\n",
       "  <thead>\n",
       "    <tr style=\"text-align: right;\">\n",
       "      <th></th>\n",
       "      <th>script_id</th>\n",
       "      <th>character</th>\n",
       "      <th>words</th>\n",
       "      <th>gender</th>\n",
       "      <th>age</th>\n",
       "      <th>imdb_id</th>\n",
       "      <th>title</th>\n",
       "      <th>release_year</th>\n",
       "      <th>gross</th>\n",
       "      <th>proportion_of_dialogue</th>\n",
       "    </tr>\n",
       "  </thead>\n",
       "  <tbody>\n",
       "    <tr>\n",
       "      <th>0</th>\n",
       "      <td>280</td>\n",
       "      <td>betty</td>\n",
       "      <td>311</td>\n",
       "      <td>f</td>\n",
       "      <td>35.0</td>\n",
       "      <td>tt0112579</td>\n",
       "      <td>The Bridges of Madison County</td>\n",
       "      <td>1995</td>\n",
       "      <td>142.0</td>\n",
       "      <td>0.048639</td>\n",
       "    </tr>\n",
       "    <tr>\n",
       "      <th>1</th>\n",
       "      <td>280</td>\n",
       "      <td>carolyn johnson</td>\n",
       "      <td>873</td>\n",
       "      <td>f</td>\n",
       "      <td>NaN</td>\n",
       "      <td>tt0112579</td>\n",
       "      <td>The Bridges of Madison County</td>\n",
       "      <td>1995</td>\n",
       "      <td>142.0</td>\n",
       "      <td>0.136534</td>\n",
       "    </tr>\n",
       "    <tr>\n",
       "      <th>2</th>\n",
       "      <td>280</td>\n",
       "      <td>eleanor</td>\n",
       "      <td>138</td>\n",
       "      <td>f</td>\n",
       "      <td>NaN</td>\n",
       "      <td>tt0112579</td>\n",
       "      <td>The Bridges of Madison County</td>\n",
       "      <td>1995</td>\n",
       "      <td>142.0</td>\n",
       "      <td>0.021583</td>\n",
       "    </tr>\n",
       "    <tr>\n",
       "      <th>3</th>\n",
       "      <td>280</td>\n",
       "      <td>francesca johns</td>\n",
       "      <td>2251</td>\n",
       "      <td>f</td>\n",
       "      <td>46.0</td>\n",
       "      <td>tt0112579</td>\n",
       "      <td>The Bridges of Madison County</td>\n",
       "      <td>1995</td>\n",
       "      <td>142.0</td>\n",
       "      <td>0.352049</td>\n",
       "    </tr>\n",
       "    <tr>\n",
       "      <th>4</th>\n",
       "      <td>280</td>\n",
       "      <td>madge</td>\n",
       "      <td>190</td>\n",
       "      <td>f</td>\n",
       "      <td>46.0</td>\n",
       "      <td>tt0112579</td>\n",
       "      <td>The Bridges of Madison County</td>\n",
       "      <td>1995</td>\n",
       "      <td>142.0</td>\n",
       "      <td>0.029715</td>\n",
       "    </tr>\n",
       "  </tbody>\n",
       "</table>\n",
       "</div>"
      ],
      "text/plain": [
       "   script_id        character  words gender   age    imdb_id  \\\n",
       "0        280            betty    311      f  35.0  tt0112579   \n",
       "1        280  carolyn johnson    873      f   NaN  tt0112579   \n",
       "2        280          eleanor    138      f   NaN  tt0112579   \n",
       "3        280  francesca johns   2251      f  46.0  tt0112579   \n",
       "4        280            madge    190      f  46.0  tt0112579   \n",
       "\n",
       "                           title  release_year  gross  proportion_of_dialogue  \n",
       "0  The Bridges of Madison County          1995  142.0                0.048639  \n",
       "1  The Bridges of Madison County          1995  142.0                0.136534  \n",
       "2  The Bridges of Madison County          1995  142.0                0.021583  \n",
       "3  The Bridges of Madison County          1995  142.0                0.352049  \n",
       "4  The Bridges of Madison County          1995  142.0                0.029715  "
      ]
     },
     "execution_count": 31,
     "metadata": {},
     "output_type": "execute_result"
    }
   ],
   "source": [
    "film_df.head()"
   ]
  },
  {
   "cell_type": "markdown",
   "metadata": {},
   "source": [
    "### 3.2 Drop Columns"
   ]
  },
  {
   "cell_type": "code",
   "execution_count": 32,
   "metadata": {},
   "outputs": [],
   "source": [
    "film_df = film_df.drop(columns='imdb_id')"
   ]
  },
  {
   "cell_type": "markdown",
   "metadata": {},
   "source": [
    "### 3.3 Dealing with missing data .isna() / .notna()"
   ]
  },
  {
   "cell_type": "markdown",
   "metadata": {},
   "source": [
    "Pandas has special ways of dealing with missing data. As you may have already noticed, blank rows in a CSV file show up as `NaN` in a Pandas DataFrame."
   ]
  },
  {
   "cell_type": "markdown",
   "metadata": {},
   "source": [
    "To filter and count the number of missing/not missing values in a dataset, we can use the special `.isna()` and `.notna()` methods on a DataFrame or Series object. "
   ]
  },
  {
   "cell_type": "markdown",
   "metadata": {},
   "source": [
    "The `.isna()` and `.notna()` methods return True/False pairs for each row, which we can use to filter the DataFrame for any rows that have information in a given column. "
   ]
  },
  {
   "cell_type": "code",
   "execution_count": 33,
   "metadata": {},
   "outputs": [
    {
     "data": {
      "text/html": [
       "<div>\n",
       "<style scoped>\n",
       "    .dataframe tbody tr th:only-of-type {\n",
       "        vertical-align: middle;\n",
       "    }\n",
       "\n",
       "    .dataframe tbody tr th {\n",
       "        vertical-align: top;\n",
       "    }\n",
       "\n",
       "    .dataframe thead th {\n",
       "        text-align: right;\n",
       "    }\n",
       "</style>\n",
       "<table border=\"1\" class=\"dataframe\">\n",
       "  <thead>\n",
       "    <tr style=\"text-align: right;\">\n",
       "      <th></th>\n",
       "      <th>script_id</th>\n",
       "      <th>character</th>\n",
       "      <th>words</th>\n",
       "      <th>gender</th>\n",
       "      <th>age</th>\n",
       "      <th>title</th>\n",
       "      <th>release_year</th>\n",
       "      <th>gross</th>\n",
       "      <th>proportion_of_dialogue</th>\n",
       "    </tr>\n",
       "  </thead>\n",
       "  <tbody>\n",
       "    <tr>\n",
       "      <th>4656</th>\n",
       "      <td>1807</td>\n",
       "      <td>NaN</td>\n",
       "      <td>146</td>\n",
       "      <td>f</td>\n",
       "      <td>NaN</td>\n",
       "      <td>Beloved</td>\n",
       "      <td>1998</td>\n",
       "      <td>42.0</td>\n",
       "      <td>0.005162</td>\n",
       "    </tr>\n",
       "    <tr>\n",
       "      <th>19448</th>\n",
       "      <td>7445</td>\n",
       "      <td>NaN</td>\n",
       "      <td>520</td>\n",
       "      <td>f</td>\n",
       "      <td>NaN</td>\n",
       "      <td>House of Games</td>\n",
       "      <td>1987</td>\n",
       "      <td>5.0</td>\n",
       "      <td>0.165184</td>\n",
       "    </tr>\n",
       "  </tbody>\n",
       "</table>\n",
       "</div>"
      ],
      "text/plain": [
       "       script_id character  words gender  age           title  release_year  \\\n",
       "4656        1807       NaN    146      f  NaN         Beloved          1998   \n",
       "19448       7445       NaN    520      f  NaN  House of Games          1987   \n",
       "\n",
       "       gross  proportion_of_dialogue  \n",
       "4656    42.0                0.005162  \n",
       "19448    5.0                0.165184  "
      ]
     },
     "execution_count": 33,
     "metadata": {},
     "output_type": "execute_result"
    }
   ],
   "source": [
    "film_df[film_df['character'].isna()]"
   ]
  },
  {
   "cell_type": "markdown",
   "metadata": {},
   "source": [
    "This is important information for the sake of better understanding our dataset. But it's also important because `NaN` values are treated as *floats*, not *strings*. If we tried to manipulate this column as text data, we would get an error. For this reason, we're going to replace or \"fill\" these `NaN` values with the string \"No Character Data\" by using the `.fillna()` method."
   ]
  },
  {
   "cell_type": "code",
   "execution_count": 34,
   "metadata": {},
   "outputs": [],
   "source": [
    "film_df['character'] = film_df['character'].fillna('No Character Data')"
   ]
  },
  {
   "cell_type": "code",
   "execution_count": 35,
   "metadata": {},
   "outputs": [
    {
     "data": {
      "text/html": [
       "<div>\n",
       "<style scoped>\n",
       "    .dataframe tbody tr th:only-of-type {\n",
       "        vertical-align: middle;\n",
       "    }\n",
       "\n",
       "    .dataframe tbody tr th {\n",
       "        vertical-align: top;\n",
       "    }\n",
       "\n",
       "    .dataframe thead th {\n",
       "        text-align: right;\n",
       "    }\n",
       "</style>\n",
       "<table border=\"1\" class=\"dataframe\">\n",
       "  <thead>\n",
       "    <tr style=\"text-align: right;\">\n",
       "      <th></th>\n",
       "      <th>script_id</th>\n",
       "      <th>character</th>\n",
       "      <th>words</th>\n",
       "      <th>gender</th>\n",
       "      <th>age</th>\n",
       "      <th>title</th>\n",
       "      <th>release_year</th>\n",
       "      <th>gross</th>\n",
       "      <th>proportion_of_dialogue</th>\n",
       "    </tr>\n",
       "  </thead>\n",
       "  <tbody>\n",
       "  </tbody>\n",
       "</table>\n",
       "</div>"
      ],
      "text/plain": [
       "Empty DataFrame\n",
       "Columns: [script_id, character, words, gender, age, title, release_year, gross, proportion_of_dialogue]\n",
       "Index: []"
      ]
     },
     "execution_count": 35,
     "metadata": {},
     "output_type": "execute_result"
    }
   ],
   "source": [
    "film_df[film_df['character'].isna()]"
   ]
  },
  {
   "cell_type": "markdown",
   "metadata": {},
   "source": [
    "### 3.4 Check for Duplicates "
   ]
  },
  {
   "cell_type": "markdown",
   "metadata": {},
   "source": [
    "We can check for duplicate rows by using the `.duplicated()` method and setting the parameter `keep=False`, which will display all the duplicated values in the dataset — rather than just the first duplicated value `keep='first'` or the last duplicated value `keep='last'`."
   ]
  },
  {
   "cell_type": "code",
   "execution_count": 36,
   "metadata": {},
   "outputs": [
    {
     "data": {
      "text/plain": [
       "0        False\n",
       "1        False\n",
       "2        False\n",
       "3        False\n",
       "4        False\n",
       "         ...  \n",
       "23047    False\n",
       "23048    False\n",
       "23049     True\n",
       "23050    False\n",
       "23051     True\n",
       "Length: 23051, dtype: bool"
      ]
     },
     "execution_count": 36,
     "metadata": {},
     "output_type": "execute_result"
    }
   ],
   "source": [
    "film_df.duplicated(keep=False)"
   ]
  },
  {
   "cell_type": "markdown",
   "metadata": {},
   "source": [
    "The output above is reporting whether each row in the dataset is a duplicate. We can use the `.duplicated()` method inside a filter to isolate only the rows in the dataframe that are exact duplicates."
   ]
  },
  {
   "cell_type": "code",
   "execution_count": 37,
   "metadata": {
    "tags": [
     "full-width"
    ]
   },
   "outputs": [
    {
     "data": {
      "text/html": [
       "<div>\n",
       "<style scoped>\n",
       "    .dataframe tbody tr th:only-of-type {\n",
       "        vertical-align: middle;\n",
       "    }\n",
       "\n",
       "    .dataframe tbody tr th {\n",
       "        vertical-align: top;\n",
       "    }\n",
       "\n",
       "    .dataframe thead th {\n",
       "        text-align: right;\n",
       "    }\n",
       "</style>\n",
       "<table border=\"1\" class=\"dataframe\">\n",
       "  <thead>\n",
       "    <tr style=\"text-align: right;\">\n",
       "      <th></th>\n",
       "      <th>script_id</th>\n",
       "      <th>character</th>\n",
       "      <th>words</th>\n",
       "      <th>gender</th>\n",
       "      <th>age</th>\n",
       "      <th>title</th>\n",
       "      <th>release_year</th>\n",
       "      <th>gross</th>\n",
       "      <th>proportion_of_dialogue</th>\n",
       "    </tr>\n",
       "  </thead>\n",
       "  <tbody>\n",
       "    <tr>\n",
       "      <th>21001</th>\n",
       "      <td>8099</td>\n",
       "      <td>c-3po</td>\n",
       "      <td>138</td>\n",
       "      <td>m</td>\n",
       "      <td>69.0</td>\n",
       "      <td>Star Wars: Episode VII - The Force Awakens</td>\n",
       "      <td>2015</td>\n",
       "      <td>927.0</td>\n",
       "      <td>0.020702</td>\n",
       "    </tr>\n",
       "    <tr>\n",
       "      <th>21002</th>\n",
       "      <td>8099</td>\n",
       "      <td>c-3po</td>\n",
       "      <td>138</td>\n",
       "      <td>m</td>\n",
       "      <td>69.0</td>\n",
       "      <td>Star Wars: Episode VII - The Force Awakens</td>\n",
       "      <td>2015</td>\n",
       "      <td>927.0</td>\n",
       "      <td>0.020702</td>\n",
       "    </tr>\n",
       "    <tr>\n",
       "      <th>21963</th>\n",
       "      <td>8560</td>\n",
       "      <td>kilgore trout</td>\n",
       "      <td>2673</td>\n",
       "      <td>m</td>\n",
       "      <td>63.0</td>\n",
       "      <td>Breakfast of Champions</td>\n",
       "      <td>1999</td>\n",
       "      <td>NaN</td>\n",
       "      <td>0.197211</td>\n",
       "    </tr>\n",
       "    <tr>\n",
       "      <th>21964</th>\n",
       "      <td>8560</td>\n",
       "      <td>kilgore trout</td>\n",
       "      <td>2673</td>\n",
       "      <td>m</td>\n",
       "      <td>63.0</td>\n",
       "      <td>Breakfast of Champions</td>\n",
       "      <td>1999</td>\n",
       "      <td>NaN</td>\n",
       "      <td>0.197211</td>\n",
       "    </tr>\n",
       "    <tr>\n",
       "      <th>22935</th>\n",
       "      <td>9222</td>\n",
       "      <td>groomsman #5</td>\n",
       "      <td>238</td>\n",
       "      <td>m</td>\n",
       "      <td>NaN</td>\n",
       "      <td>Wedding Crashers</td>\n",
       "      <td>2005</td>\n",
       "      <td>283.0</td>\n",
       "      <td>0.012032</td>\n",
       "    </tr>\n",
       "    <tr>\n",
       "      <th>22936</th>\n",
       "      <td>9222</td>\n",
       "      <td>groomsman #5</td>\n",
       "      <td>238</td>\n",
       "      <td>m</td>\n",
       "      <td>NaN</td>\n",
       "      <td>Wedding Crashers</td>\n",
       "      <td>2005</td>\n",
       "      <td>283.0</td>\n",
       "      <td>0.012032</td>\n",
       "    </tr>\n",
       "    <tr>\n",
       "      <th>23049</th>\n",
       "      <td>9254</td>\n",
       "      <td>mrs. potts</td>\n",
       "      <td>564</td>\n",
       "      <td>f</td>\n",
       "      <td>66.0</td>\n",
       "      <td>Beauty and the Beast</td>\n",
       "      <td>1991</td>\n",
       "      <td>452.0</td>\n",
       "      <td>0.055517</td>\n",
       "    </tr>\n",
       "    <tr>\n",
       "      <th>23051</th>\n",
       "      <td>9254</td>\n",
       "      <td>mrs. potts</td>\n",
       "      <td>564</td>\n",
       "      <td>f</td>\n",
       "      <td>66.0</td>\n",
       "      <td>Beauty and the Beast</td>\n",
       "      <td>1991</td>\n",
       "      <td>452.0</td>\n",
       "      <td>0.055517</td>\n",
       "    </tr>\n",
       "  </tbody>\n",
       "</table>\n",
       "</div>"
      ],
      "text/plain": [
       "       script_id      character  words gender   age  \\\n",
       "21001       8099          c-3po    138      m  69.0   \n",
       "21002       8099          c-3po    138      m  69.0   \n",
       "21963       8560  kilgore trout   2673      m  63.0   \n",
       "21964       8560  kilgore trout   2673      m  63.0   \n",
       "22935       9222   groomsman #5    238      m   NaN   \n",
       "22936       9222   groomsman #5    238      m   NaN   \n",
       "23049       9254     mrs. potts    564      f  66.0   \n",
       "23051       9254     mrs. potts    564      f  66.0   \n",
       "\n",
       "                                            title  release_year  gross  \\\n",
       "21001  Star Wars: Episode VII - The Force Awakens          2015  927.0   \n",
       "21002  Star Wars: Episode VII - The Force Awakens          2015  927.0   \n",
       "21963                      Breakfast of Champions          1999    NaN   \n",
       "21964                      Breakfast of Champions          1999    NaN   \n",
       "22935                            Wedding Crashers          2005  283.0   \n",
       "22936                            Wedding Crashers          2005  283.0   \n",
       "23049                        Beauty and the Beast          1991  452.0   \n",
       "23051                        Beauty and the Beast          1991  452.0   \n",
       "\n",
       "       proportion_of_dialogue  \n",
       "21001                0.020702  \n",
       "21002                0.020702  \n",
       "21963                0.197211  \n",
       "21964                0.197211  \n",
       "22935                0.012032  \n",
       "22936                0.012032  \n",
       "23049                0.055517  \n",
       "23051                0.055517  "
      ]
     },
     "execution_count": 37,
     "metadata": {},
     "output_type": "execute_result"
    }
   ],
   "source": [
    "film_df[film_df.duplicated(keep=False)]"
   ]
  },
  {
   "cell_type": "markdown",
   "metadata": {},
   "source": [
    "We can drop duplicates from the DataFrame with the `.drop_duplicates()` method and choose to keep the first instance of the duplicate or the last instance."
   ]
  },
  {
   "cell_type": "code",
   "execution_count": 38,
   "metadata": {},
   "outputs": [],
   "source": [
    "film_df = film_df.drop_duplicates(keep='first')"
   ]
  },
  {
   "cell_type": "markdown",
   "metadata": {},
   "source": [
    "Now if we check the data for duplicates again, they should be all gone."
   ]
  },
  {
   "cell_type": "code",
   "execution_count": 39,
   "metadata": {},
   "outputs": [
    {
     "data": {
      "text/html": [
       "<div>\n",
       "<style scoped>\n",
       "    .dataframe tbody tr th:only-of-type {\n",
       "        vertical-align: middle;\n",
       "    }\n",
       "\n",
       "    .dataframe tbody tr th {\n",
       "        vertical-align: top;\n",
       "    }\n",
       "\n",
       "    .dataframe thead th {\n",
       "        text-align: right;\n",
       "    }\n",
       "</style>\n",
       "<table border=\"1\" class=\"dataframe\">\n",
       "  <thead>\n",
       "    <tr style=\"text-align: right;\">\n",
       "      <th></th>\n",
       "      <th>script_id</th>\n",
       "      <th>character</th>\n",
       "      <th>words</th>\n",
       "      <th>gender</th>\n",
       "      <th>age</th>\n",
       "      <th>title</th>\n",
       "      <th>release_year</th>\n",
       "      <th>gross</th>\n",
       "      <th>proportion_of_dialogue</th>\n",
       "    </tr>\n",
       "  </thead>\n",
       "  <tbody>\n",
       "  </tbody>\n",
       "</table>\n",
       "</div>"
      ],
      "text/plain": [
       "Empty DataFrame\n",
       "Columns: [script_id, character, words, gender, age, title, release_year, gross, proportion_of_dialogue]\n",
       "Index: []"
      ]
     },
     "execution_count": 39,
     "metadata": {},
     "output_type": "execute_result"
    }
   ],
   "source": [
    "film_df[film_df.duplicated(keep=False)]"
   ]
  },
  {
   "cell_type": "markdown",
   "metadata": {},
   "source": [
    "## 4. Pandas `.str` Methods"
   ]
  },
  {
   "cell_type": "markdown",
   "metadata": {},
   "source": [
    "Remember all the special things that you can do with Python strings aka [string methods](https://melaniewalsh.github.io/Intro-Cultural-Analytics/Python/String-Methods.html)?\n",
    "\n",
    "Pandas has special [Pandas string methods](https://pandas.pydata.org/pandas-docs/stable/user_guide/text.html#string-methods), too. Many of them are very similar to Python string methods, except they will transform every single string value in a column, and we have to add `.str` to the method chain."
   ]
  },
  {
   "cell_type": "markdown",
   "metadata": {},
   "source": [
    "| **Pandas String Method** | **Explanation**                                                                                   |\n",
    "|:-------------:|:---------------------------------------------------------------------------------------------------:|\n",
    "| df['column_name']`.str.lower()`         | makes the string in each row lowercase                                                                                |\n",
    "| df['column_name']`.str.upper()`         | makes the string in each row uppercase                                                |\n",
    "| df['column_name']`.str.title()`         | makes the string in each row titlecase                                                |\n",
    "| df['column_name']`.str.replace('old string', 'new string')`      | replaces `old string` with `new string` for each row |\n",
    "| df['column_name']`.str.contains('some string')`      | tests whether string in each row contains \"some string\" |\n",
    "| df['column_name']`.str.split('delim')`          | returns a list of substrings separated by the given delimiter |\n",
    "| df['column_name']`.str.join(list)`         | opposite of split(), joins the elements in the given list together using the string                                                                        |\n",
    "                                                            "
   ]
  },
  {
   "cell_type": "markdown",
   "metadata": {},
   "source": [
    "For example, to transform every character's name in the \"character\" column from lowercase to uppercase, we can use `.str.upper()` "
   ]
  },
  {
   "cell_type": "code",
   "execution_count": 40,
   "metadata": {},
   "outputs": [
    {
     "data": {
      "text/plain": [
       "0                  BETTY\n",
       "1        CAROLYN JOHNSON\n",
       "2                ELEANOR\n",
       "3        FRANCESCA JOHNS\n",
       "4                  MADGE\n",
       "              ...       \n",
       "23046            LUMIERE\n",
       "23047            MAURICE\n",
       "23048    MONSIEUR D'ARQU\n",
       "23049         MRS. POTTS\n",
       "23050           WARDROBE\n",
       "Name: character, Length: 23047, dtype: object"
      ]
     },
     "execution_count": 40,
     "metadata": {},
     "output_type": "execute_result"
    }
   ],
   "source": [
    "film_df['character'].str.upper()"
   ]
  },
  {
   "cell_type": "markdown",
   "metadata": {},
   "source": [
    "To transform every character's name in the \"character\" column to lowercase, we can use `.str.lower()`"
   ]
  },
  {
   "cell_type": "code",
   "execution_count": 41,
   "metadata": {},
   "outputs": [
    {
     "data": {
      "text/plain": [
       "0                  betty\n",
       "1        carolyn johnson\n",
       "2                eleanor\n",
       "3        francesca johns\n",
       "4                  madge\n",
       "              ...       \n",
       "23046            lumiere\n",
       "23047            maurice\n",
       "23048    monsieur d'arqu\n",
       "23049         mrs. potts\n",
       "23050           wardrobe\n",
       "Name: character, Length: 23047, dtype: object"
      ]
     },
     "execution_count": 41,
     "metadata": {},
     "output_type": "execute_result"
    }
   ],
   "source": [
    "film_df['character'].str.lower()"
   ]
  },
  {
   "cell_type": "markdown",
   "metadata": {},
   "source": [
    "If we want to replace the gender columns's single letter abbreviation for \"male\" / \"female\" (sex) with \"man\" / \"woman\" (gender identity), we could use the `.str.replace()` method. "
   ]
  },
  {
   "cell_type": "code",
   "execution_count": 42,
   "metadata": {},
   "outputs": [],
   "source": [
    "film_df['gender'] = film_df['gender'].str.replace('m', 'man')"
   ]
  },
  {
   "cell_type": "code",
   "execution_count": 43,
   "metadata": {},
   "outputs": [],
   "source": [
    "film_df['gender'] = film_df['gender'].str.replace('f', 'woman')"
   ]
  },
  {
   "cell_type": "code",
   "execution_count": 44,
   "metadata": {},
   "outputs": [
    {
     "data": {
      "text/html": [
       "<div>\n",
       "<style scoped>\n",
       "    .dataframe tbody tr th:only-of-type {\n",
       "        vertical-align: middle;\n",
       "    }\n",
       "\n",
       "    .dataframe tbody tr th {\n",
       "        vertical-align: top;\n",
       "    }\n",
       "\n",
       "    .dataframe thead th {\n",
       "        text-align: right;\n",
       "    }\n",
       "</style>\n",
       "<table border=\"1\" class=\"dataframe\">\n",
       "  <thead>\n",
       "    <tr style=\"text-align: right;\">\n",
       "      <th></th>\n",
       "      <th>script_id</th>\n",
       "      <th>character</th>\n",
       "      <th>words</th>\n",
       "      <th>gender</th>\n",
       "      <th>age</th>\n",
       "      <th>title</th>\n",
       "      <th>release_year</th>\n",
       "      <th>gross</th>\n",
       "      <th>proportion_of_dialogue</th>\n",
       "    </tr>\n",
       "  </thead>\n",
       "  <tbody>\n",
       "    <tr>\n",
       "      <th>18526</th>\n",
       "      <td>7014</td>\n",
       "      <td>julie</td>\n",
       "      <td>256</td>\n",
       "      <td>woman</td>\n",
       "      <td>22.0</td>\n",
       "      <td>Showgirls</td>\n",
       "      <td>1995</td>\n",
       "      <td>40.0</td>\n",
       "      <td>0.023103</td>\n",
       "    </tr>\n",
       "    <tr>\n",
       "      <th>10160</th>\n",
       "      <td>3289</td>\n",
       "      <td>charlie mccorry</td>\n",
       "      <td>584</td>\n",
       "      <td>man</td>\n",
       "      <td>40.0</td>\n",
       "      <td>The Searchers</td>\n",
       "      <td>1956</td>\n",
       "      <td>NaN</td>\n",
       "      <td>0.036878</td>\n",
       "    </tr>\n",
       "    <tr>\n",
       "      <th>15578</th>\n",
       "      <td>5214</td>\n",
       "      <td>guy</td>\n",
       "      <td>163</td>\n",
       "      <td>man</td>\n",
       "      <td>NaN</td>\n",
       "      <td>The Wedding Singer</td>\n",
       "      <td>1998</td>\n",
       "      <td>148.0</td>\n",
       "      <td>0.011877</td>\n",
       "    </tr>\n",
       "    <tr>\n",
       "      <th>649</th>\n",
       "      <td>793</td>\n",
       "      <td>ellis</td>\n",
       "      <td>223</td>\n",
       "      <td>man</td>\n",
       "      <td>NaN</td>\n",
       "      <td>Cellular</td>\n",
       "      <td>2004</td>\n",
       "      <td>44.0</td>\n",
       "      <td>0.023130</td>\n",
       "    </tr>\n",
       "    <tr>\n",
       "      <th>892</th>\n",
       "      <td>851</td>\n",
       "      <td>peterson</td>\n",
       "      <td>207</td>\n",
       "      <td>man</td>\n",
       "      <td>NaN</td>\n",
       "      <td>Deception</td>\n",
       "      <td>2008</td>\n",
       "      <td>5.0</td>\n",
       "      <td>0.024247</td>\n",
       "    </tr>\n",
       "    <tr>\n",
       "      <th>1190</th>\n",
       "      <td>915</td>\n",
       "      <td>clear rivers</td>\n",
       "      <td>472</td>\n",
       "      <td>woman</td>\n",
       "      <td>24.0</td>\n",
       "      <td>Final Destination</td>\n",
       "      <td>2000</td>\n",
       "      <td>86.0</td>\n",
       "      <td>0.163946</td>\n",
       "    </tr>\n",
       "    <tr>\n",
       "      <th>3032</th>\n",
       "      <td>1360</td>\n",
       "      <td>lama su</td>\n",
       "      <td>350</td>\n",
       "      <td>man</td>\n",
       "      <td>48.0</td>\n",
       "      <td>Star Wars: Episode II - Attack of the Clones</td>\n",
       "      <td>2002</td>\n",
       "      <td>465.0</td>\n",
       "      <td>0.046574</td>\n",
       "    </tr>\n",
       "    <tr>\n",
       "      <th>10153</th>\n",
       "      <td>3288</td>\n",
       "      <td>somerset</td>\n",
       "      <td>8838</td>\n",
       "      <td>man</td>\n",
       "      <td>58.0</td>\n",
       "      <td>Se7en</td>\n",
       "      <td>1995</td>\n",
       "      <td>200.0</td>\n",
       "      <td>0.428281</td>\n",
       "    </tr>\n",
       "    <tr>\n",
       "      <th>10421</th>\n",
       "      <td>3352</td>\n",
       "      <td>anna crowe</td>\n",
       "      <td>916</td>\n",
       "      <td>woman</td>\n",
       "      <td>31.0</td>\n",
       "      <td>The Sixth Sense</td>\n",
       "      <td>1999</td>\n",
       "      <td>503.0</td>\n",
       "      <td>0.080549</td>\n",
       "    </tr>\n",
       "    <tr>\n",
       "      <th>7132</th>\n",
       "      <td>2442</td>\n",
       "      <td>noah</td>\n",
       "      <td>160</td>\n",
       "      <td>man</td>\n",
       "      <td>32.0</td>\n",
       "      <td>The Grapes of Wrath</td>\n",
       "      <td>1940</td>\n",
       "      <td>NaN</td>\n",
       "      <td>0.006841</td>\n",
       "    </tr>\n",
       "  </tbody>\n",
       "</table>\n",
       "</div>"
      ],
      "text/plain": [
       "       script_id        character  words gender   age  \\\n",
       "18526       7014            julie    256  woman  22.0   \n",
       "10160       3289  charlie mccorry    584    man  40.0   \n",
       "15578       5214              guy    163    man   NaN   \n",
       "649          793            ellis    223    man   NaN   \n",
       "892          851         peterson    207    man   NaN   \n",
       "1190         915     clear rivers    472  woman  24.0   \n",
       "3032        1360          lama su    350    man  48.0   \n",
       "10153       3288         somerset   8838    man  58.0   \n",
       "10421       3352       anna crowe    916  woman  31.0   \n",
       "7132        2442             noah    160    man  32.0   \n",
       "\n",
       "                                              title  release_year  gross  \\\n",
       "18526                                     Showgirls          1995   40.0   \n",
       "10160                                 The Searchers          1956    NaN   \n",
       "15578                            The Wedding Singer          1998  148.0   \n",
       "649                                        Cellular          2004   44.0   \n",
       "892                                       Deception          2008    5.0   \n",
       "1190                              Final Destination          2000   86.0   \n",
       "3032   Star Wars: Episode II - Attack of the Clones          2002  465.0   \n",
       "10153                                         Se7en          1995  200.0   \n",
       "10421                               The Sixth Sense          1999  503.0   \n",
       "7132                            The Grapes of Wrath          1940    NaN   \n",
       "\n",
       "       proportion_of_dialogue  \n",
       "18526                0.023103  \n",
       "10160                0.036878  \n",
       "15578                0.011877  \n",
       "649                  0.023130  \n",
       "892                  0.024247  \n",
       "1190                 0.163946  \n",
       "3032                 0.046574  \n",
       "10153                0.428281  \n",
       "10421                0.080549  \n",
       "7132                 0.006841  "
      ]
     },
     "execution_count": 44,
     "metadata": {},
     "output_type": "execute_result"
    }
   ],
   "source": [
    "film_df.sample(10)"
   ]
  },
  {
   "cell_type": "markdown",
   "metadata": {},
   "source": [
    "We can use the `.str.contains()` to search for particular words or phrases in a column, such as \"Star Wars.\""
   ]
  },
  {
   "cell_type": "code",
   "execution_count": null,
   "metadata": {
    "scrolled": true,
    "tags": [
     "output_scroll",
     "full-width"
    ]
   },
   "outputs": [],
   "source": [
    "film_df[film_df['title'].str.contains('Star Wars')].head()"
   ]
  },
  {
   "cell_type": "markdown",
   "metadata": {},
   "source": [
    "Let's try \"Mean Girls\""
   ]
  },
  {
   "cell_type": "code",
   "execution_count": null,
   "metadata": {
    "tags": [
     "full-width"
    ]
   },
   "outputs": [],
   "source": [
    "film_df[film_df['title'].str.contains('Mean Girls')]"
   ]
  },
  {
   "cell_type": "markdown",
   "metadata": {},
   "source": [
    "## 5. Applying Functions"
   ]
  },
  {
   "cell_type": "markdown",
   "metadata": {},
   "source": [
    "With the `.apply()` method, we can run a function on every single row in a Pandas column or dataframe."
   ]
  },
  {
   "cell_type": "code",
   "execution_count": 47,
   "metadata": {},
   "outputs": [],
   "source": [
    "def make_text_title_case(text):\n",
    "    title_case_text = text.title()\n",
    "    return title_case_text"
   ]
  },
  {
   "cell_type": "code",
   "execution_count": 48,
   "metadata": {},
   "outputs": [
    {
     "data": {
      "text/plain": [
       "'Betty'"
      ]
     },
     "execution_count": 48,
     "metadata": {},
     "output_type": "execute_result"
    }
   ],
   "source": [
    "make_text_title_case(\"betty\")"
   ]
  },
  {
   "cell_type": "code",
   "execution_count": 49,
   "metadata": {},
   "outputs": [
    {
     "data": {
      "text/plain": [
       "0                  Betty\n",
       "1        Carolyn Johnson\n",
       "2                Eleanor\n",
       "3        Francesca Johns\n",
       "4                  Madge\n",
       "              ...       \n",
       "23046            Lumiere\n",
       "23047            Maurice\n",
       "23048    Monsieur D'Arqu\n",
       "23049         Mrs. Potts\n",
       "23050           Wardrobe\n",
       "Name: character, Length: 23047, dtype: object"
      ]
     },
     "execution_count": 49,
     "metadata": {},
     "output_type": "execute_result"
    }
   ],
   "source": [
    "film_df['character'].apply(make_text_title_case)"
   ]
  },
  {
   "cell_type": "code",
   "execution_count": 50,
   "metadata": {},
   "outputs": [],
   "source": [
    "film_df['character'] = film_df['character'].apply(make_text_title_case)"
   ]
  },
  {
   "cell_type": "code",
   "execution_count": 51,
   "metadata": {
    "tags": [
     "full-width"
    ]
   },
   "outputs": [
    {
     "data": {
      "text/html": [
       "<div>\n",
       "<style scoped>\n",
       "    .dataframe tbody tr th:only-of-type {\n",
       "        vertical-align: middle;\n",
       "    }\n",
       "\n",
       "    .dataframe tbody tr th {\n",
       "        vertical-align: top;\n",
       "    }\n",
       "\n",
       "    .dataframe thead th {\n",
       "        text-align: right;\n",
       "    }\n",
       "</style>\n",
       "<table border=\"1\" class=\"dataframe\">\n",
       "  <thead>\n",
       "    <tr style=\"text-align: right;\">\n",
       "      <th></th>\n",
       "      <th>script_id</th>\n",
       "      <th>character</th>\n",
       "      <th>words</th>\n",
       "      <th>gender</th>\n",
       "      <th>age</th>\n",
       "      <th>title</th>\n",
       "      <th>release_year</th>\n",
       "      <th>gross</th>\n",
       "      <th>proportion_of_dialogue</th>\n",
       "    </tr>\n",
       "  </thead>\n",
       "  <tbody>\n",
       "    <tr>\n",
       "      <th>21944</th>\n",
       "      <td>8559</td>\n",
       "      <td>Joey Pinero</td>\n",
       "      <td>288</td>\n",
       "      <td>man</td>\n",
       "      <td>40.0</td>\n",
       "      <td>Primal Fear</td>\n",
       "      <td>1996</td>\n",
       "      <td>110.0</td>\n",
       "      <td>0.021510</td>\n",
       "    </tr>\n",
       "    <tr>\n",
       "      <th>1698</th>\n",
       "      <td>1044</td>\n",
       "      <td>Anna Mcdoogles</td>\n",
       "      <td>1346</td>\n",
       "      <td>woman</td>\n",
       "      <td>37.0</td>\n",
       "      <td>The Invention of Lying</td>\n",
       "      <td>2009</td>\n",
       "      <td>21.0</td>\n",
       "      <td>0.160105</td>\n",
       "    </tr>\n",
       "    <tr>\n",
       "      <th>11675</th>\n",
       "      <td>3746</td>\n",
       "      <td>Randy 'The Ram'</td>\n",
       "      <td>5220</td>\n",
       "      <td>man</td>\n",
       "      <td>56.0</td>\n",
       "      <td>The Wrestler</td>\n",
       "      <td>2008</td>\n",
       "      <td>31.0</td>\n",
       "      <td>0.496009</td>\n",
       "    </tr>\n",
       "    <tr>\n",
       "      <th>801</th>\n",
       "      <td>821</td>\n",
       "      <td>Peter</td>\n",
       "      <td>804</td>\n",
       "      <td>man</td>\n",
       "      <td>NaN</td>\n",
       "      <td>Contact</td>\n",
       "      <td>1997</td>\n",
       "      <td>191.0</td>\n",
       "      <td>0.068449</td>\n",
       "    </tr>\n",
       "    <tr>\n",
       "      <th>15636</th>\n",
       "      <td>5236</td>\n",
       "      <td>Michael Jackson</td>\n",
       "      <td>151</td>\n",
       "      <td>man</td>\n",
       "      <td>NaN</td>\n",
       "      <td>Willard</td>\n",
       "      <td>1971</td>\n",
       "      <td>101.0</td>\n",
       "      <td>0.016402</td>\n",
       "    </tr>\n",
       "    <tr>\n",
       "      <th>1059</th>\n",
       "      <td>885</td>\n",
       "      <td>Lord Howard</td>\n",
       "      <td>154</td>\n",
       "      <td>man</td>\n",
       "      <td>65.0</td>\n",
       "      <td>Elizabeth: The Golden Age</td>\n",
       "      <td>2007</td>\n",
       "      <td>20.0</td>\n",
       "      <td>0.021050</td>\n",
       "    </tr>\n",
       "    <tr>\n",
       "      <th>9011</th>\n",
       "      <td>2949</td>\n",
       "      <td>Cosmo Castorini</td>\n",
       "      <td>1196</td>\n",
       "      <td>man</td>\n",
       "      <td>67.0</td>\n",
       "      <td>Moonstruck</td>\n",
       "      <td>1987</td>\n",
       "      <td>179.0</td>\n",
       "      <td>0.063957</td>\n",
       "    </tr>\n",
       "    <tr>\n",
       "      <th>473</th>\n",
       "      <td>745</td>\n",
       "      <td>Deputy Da Ellis</td>\n",
       "      <td>462</td>\n",
       "      <td>man</td>\n",
       "      <td>37.0</td>\n",
       "      <td>The Black Dahlia</td>\n",
       "      <td>2006</td>\n",
       "      <td>29.0</td>\n",
       "      <td>0.040477</td>\n",
       "    </tr>\n",
       "    <tr>\n",
       "      <th>17745</th>\n",
       "      <td>6535</td>\n",
       "      <td>Rick Cowley</td>\n",
       "      <td>150</td>\n",
       "      <td>man</td>\n",
       "      <td>46.0</td>\n",
       "      <td>The Dark Half</td>\n",
       "      <td>1993</td>\n",
       "      <td>20.0</td>\n",
       "      <td>0.014219</td>\n",
       "    </tr>\n",
       "    <tr>\n",
       "      <th>2086</th>\n",
       "      <td>1140</td>\n",
       "      <td>Dr. Arthur Neum</td>\n",
       "      <td>267</td>\n",
       "      <td>man</td>\n",
       "      <td>50.0</td>\n",
       "      <td>The Mask</td>\n",
       "      <td>1994</td>\n",
       "      <td>249.0</td>\n",
       "      <td>0.042995</td>\n",
       "    </tr>\n",
       "  </tbody>\n",
       "</table>\n",
       "</div>"
      ],
      "text/plain": [
       "       script_id        character  words gender   age  \\\n",
       "21944       8559      Joey Pinero    288    man  40.0   \n",
       "1698        1044   Anna Mcdoogles   1346  woman  37.0   \n",
       "11675       3746  Randy 'The Ram'   5220    man  56.0   \n",
       "801          821            Peter    804    man   NaN   \n",
       "15636       5236  Michael Jackson    151    man   NaN   \n",
       "1059         885      Lord Howard    154    man  65.0   \n",
       "9011        2949  Cosmo Castorini   1196    man  67.0   \n",
       "473          745  Deputy Da Ellis    462    man  37.0   \n",
       "17745       6535      Rick Cowley    150    man  46.0   \n",
       "2086        1140  Dr. Arthur Neum    267    man  50.0   \n",
       "\n",
       "                           title  release_year  gross  proportion_of_dialogue  \n",
       "21944                Primal Fear          1996  110.0                0.021510  \n",
       "1698      The Invention of Lying          2009   21.0                0.160105  \n",
       "11675               The Wrestler          2008   31.0                0.496009  \n",
       "801                      Contact          1997  191.0                0.068449  \n",
       "15636                    Willard          1971  101.0                0.016402  \n",
       "1059   Elizabeth: The Golden Age          2007   20.0                0.021050  \n",
       "9011                  Moonstruck          1987  179.0                0.063957  \n",
       "473             The Black Dahlia          2006   29.0                0.040477  \n",
       "17745              The Dark Half          1993   20.0                0.014219  \n",
       "2086                    The Mask          1994  249.0                0.042995  "
      ]
     },
     "execution_count": 51,
     "metadata": {},
     "output_type": "execute_result"
    }
   ],
   "source": [
    "film_df.sample(10)"
   ]
  },
  {
   "cell_type": "markdown",
   "metadata": {},
   "source": [
    "## 6. Filter a DataFrame"
   ]
  },
  {
   "cell_type": "markdown",
   "metadata": {},
   "source": [
    "We can filter the DataFrames for only characters who are men or women."
   ]
  },
  {
   "cell_type": "code",
   "execution_count": 84,
   "metadata": {},
   "outputs": [],
   "source": [
    "men_film_df = film_df[film_df['gender'] == 'man']"
   ]
  },
  {
   "cell_type": "code",
   "execution_count": 85,
   "metadata": {},
   "outputs": [],
   "source": [
    "women_film_df = film_df[film_df['gender'] == 'woman']"
   ]
  },
  {
   "cell_type": "markdown",
   "metadata": {},
   "source": [
    "## 7. Aggregate the data by grouping variables/columns with .groupby()"
   ]
  },
  {
   "cell_type": "markdown",
   "metadata": {},
   "source": [
    "We can use the `.groupby()` function to group all the men characters in each film and sum up their total dialogue."
   ]
  },
  {
   "cell_type": "markdown",
   "metadata": {},
   "source": [
    "By adding a Python string slice, we can identify the top 20 films with the greatest proportion of men speaking."
   ]
  },
  {
   "cell_type": "markdown",
   "metadata": {},
   "source": [
    "```{margin} Line Breaks\n",
    "If a line of code gets too long, you can create a line break with a backslash `\\`\n",
    "```"
   ]
  },
  {
   "cell_type": "code",
   "execution_count": 86,
   "metadata": {},
   "outputs": [
    {
     "data": {
      "text/html": [
       "<div>\n",
       "<style scoped>\n",
       "    .dataframe tbody tr th:only-of-type {\n",
       "        vertical-align: middle;\n",
       "    }\n",
       "\n",
       "    .dataframe tbody tr th {\n",
       "        vertical-align: top;\n",
       "    }\n",
       "\n",
       "    .dataframe thead th {\n",
       "        text-align: right;\n",
       "    }\n",
       "</style>\n",
       "<table border=\"1\" class=\"dataframe\">\n",
       "  <thead>\n",
       "    <tr style=\"text-align: right;\">\n",
       "      <th></th>\n",
       "      <th>proportion_of_dialogue</th>\n",
       "    </tr>\n",
       "    <tr>\n",
       "      <th>title</th>\n",
       "      <th></th>\n",
       "    </tr>\n",
       "  </thead>\n",
       "  <tbody>\n",
       "    <tr>\n",
       "      <th>The Men Who Stare at Goats</th>\n",
       "      <td>1.0</td>\n",
       "    </tr>\n",
       "    <tr>\n",
       "      <th>Kagemusha</th>\n",
       "      <td>1.0</td>\n",
       "    </tr>\n",
       "    <tr>\n",
       "      <th>The Wild Bunch</th>\n",
       "      <td>1.0</td>\n",
       "    </tr>\n",
       "    <tr>\n",
       "      <th>Killing Them Softly</th>\n",
       "      <td>1.0</td>\n",
       "    </tr>\n",
       "    <tr>\n",
       "      <th>Stalag 17</th>\n",
       "      <td>1.0</td>\n",
       "    </tr>\n",
       "    <tr>\n",
       "      <th>There Will Be Blood</th>\n",
       "      <td>1.0</td>\n",
       "    </tr>\n",
       "    <tr>\n",
       "      <th>Fury</th>\n",
       "      <td>1.0</td>\n",
       "    </tr>\n",
       "    <tr>\n",
       "      <th>The Revenant</th>\n",
       "      <td>1.0</td>\n",
       "    </tr>\n",
       "    <tr>\n",
       "      <th>Saving Private Ryan</th>\n",
       "      <td>1.0</td>\n",
       "    </tr>\n",
       "    <tr>\n",
       "      <th>Crimson Tide</th>\n",
       "      <td>1.0</td>\n",
       "    </tr>\n",
       "    <tr>\n",
       "      <th>Die Hard: With a Vengeance</th>\n",
       "      <td>1.0</td>\n",
       "    </tr>\n",
       "    <tr>\n",
       "      <th>Jeremiah Johnson</th>\n",
       "      <td>1.0</td>\n",
       "    </tr>\n",
       "    <tr>\n",
       "      <th>Conquest of the Planet of the Apes</th>\n",
       "      <td>1.0</td>\n",
       "    </tr>\n",
       "    <tr>\n",
       "      <th>Duel</th>\n",
       "      <td>1.0</td>\n",
       "    </tr>\n",
       "    <tr>\n",
       "      <th>The Hunt for Red October</th>\n",
       "      <td>1.0</td>\n",
       "    </tr>\n",
       "    <tr>\n",
       "      <th>Platoon</th>\n",
       "      <td>1.0</td>\n",
       "    </tr>\n",
       "    <tr>\n",
       "      <th>Reservoir Dogs</th>\n",
       "      <td>1.0</td>\n",
       "    </tr>\n",
       "    <tr>\n",
       "      <th>The Battle of Algiers</th>\n",
       "      <td>1.0</td>\n",
       "    </tr>\n",
       "    <tr>\n",
       "      <th>Armored</th>\n",
       "      <td>1.0</td>\n",
       "    </tr>\n",
       "    <tr>\n",
       "      <th>Space Jam</th>\n",
       "      <td>1.0</td>\n",
       "    </tr>\n",
       "  </tbody>\n",
       "</table>\n",
       "</div>"
      ],
      "text/plain": [
       "                                    proportion_of_dialogue\n",
       "title                                                     \n",
       "The Men Who Stare at Goats                             1.0\n",
       "Kagemusha                                              1.0\n",
       "The Wild Bunch                                         1.0\n",
       "Killing Them Softly                                    1.0\n",
       "Stalag 17                                              1.0\n",
       "There Will Be Blood                                    1.0\n",
       "Fury                                                   1.0\n",
       "The Revenant                                           1.0\n",
       "Saving Private Ryan                                    1.0\n",
       "Crimson Tide                                           1.0\n",
       "Die Hard: With a Vengeance                             1.0\n",
       "Jeremiah Johnson                                       1.0\n",
       "Conquest of the Planet of the Apes                     1.0\n",
       "Duel                                                   1.0\n",
       "The Hunt for Red October                               1.0\n",
       "Platoon                                                1.0\n",
       "Reservoir Dogs                                         1.0\n",
       "The Battle of Algiers                                  1.0\n",
       "Armored                                                1.0\n",
       "Space Jam                                              1.0"
      ]
     },
     "execution_count": 86,
     "metadata": {},
     "output_type": "execute_result"
    }
   ],
   "source": [
    "men_film_df.groupby('title')[['proportion_of_dialogue']]\\\n",
    ".sum().sort_values(by='proportion_of_dialogue', ascending=False)[:20]"
   ]
  },
  {
   "cell_type": "markdown",
   "metadata": {},
   "source": [
    "We can use the `.groupby()` function to group all the women characters in each film and sum up their total dialogue."
   ]
  },
  {
   "cell_type": "markdown",
   "metadata": {},
   "source": [
    "By adding a Python string slice, we can identify the top 20 films with the greatest proportion of women speaking."
   ]
  },
  {
   "cell_type": "markdown",
   "metadata": {},
   "source": [
    "```{margin} Line Breaks\n",
    "If a line of code gets too long, you can create a line break with a backslash `\\`\n",
    "```"
   ]
  },
  {
   "cell_type": "code",
   "execution_count": 87,
   "metadata": {},
   "outputs": [
    {
     "data": {
      "text/html": [
       "<div>\n",
       "<style scoped>\n",
       "    .dataframe tbody tr th:only-of-type {\n",
       "        vertical-align: middle;\n",
       "    }\n",
       "\n",
       "    .dataframe tbody tr th {\n",
       "        vertical-align: top;\n",
       "    }\n",
       "\n",
       "    .dataframe thead th {\n",
       "        text-align: right;\n",
       "    }\n",
       "</style>\n",
       "<table border=\"1\" class=\"dataframe\">\n",
       "  <thead>\n",
       "    <tr style=\"text-align: right;\">\n",
       "      <th></th>\n",
       "      <th>proportion_of_dialogue</th>\n",
       "    </tr>\n",
       "    <tr>\n",
       "      <th>title</th>\n",
       "      <th></th>\n",
       "    </tr>\n",
       "  </thead>\n",
       "  <tbody>\n",
       "    <tr>\n",
       "      <th>The Descent</th>\n",
       "      <td>1.000000</td>\n",
       "    </tr>\n",
       "    <tr>\n",
       "      <th>Now and Then</th>\n",
       "      <td>1.000000</td>\n",
       "    </tr>\n",
       "    <tr>\n",
       "      <th>Precious</th>\n",
       "      <td>0.993541</td>\n",
       "    </tr>\n",
       "    <tr>\n",
       "      <th>Martyrs</th>\n",
       "      <td>0.965550</td>\n",
       "    </tr>\n",
       "    <tr>\n",
       "      <th>The Hand That Rocks the Cradle</th>\n",
       "      <td>0.933750</td>\n",
       "    </tr>\n",
       "    <tr>\n",
       "      <th>Agnes of God</th>\n",
       "      <td>0.922482</td>\n",
       "    </tr>\n",
       "    <tr>\n",
       "      <th>Heavenly Creatures</th>\n",
       "      <td>0.919368</td>\n",
       "    </tr>\n",
       "    <tr>\n",
       "      <th>The Help</th>\n",
       "      <td>0.916947</td>\n",
       "    </tr>\n",
       "    <tr>\n",
       "      <th>3 Women</th>\n",
       "      <td>0.899530</td>\n",
       "    </tr>\n",
       "    <tr>\n",
       "      <th>The Watermelon Woman</th>\n",
       "      <td>0.894676</td>\n",
       "    </tr>\n",
       "    <tr>\n",
       "      <th>Grandma</th>\n",
       "      <td>0.894137</td>\n",
       "    </tr>\n",
       "    <tr>\n",
       "      <th>The Craft</th>\n",
       "      <td>0.891866</td>\n",
       "    </tr>\n",
       "    <tr>\n",
       "      <th>Easy A</th>\n",
       "      <td>0.888131</td>\n",
       "    </tr>\n",
       "    <tr>\n",
       "      <th>The Others</th>\n",
       "      <td>0.879972</td>\n",
       "    </tr>\n",
       "    <tr>\n",
       "      <th>Black Christmas</th>\n",
       "      <td>0.877467</td>\n",
       "    </tr>\n",
       "    <tr>\n",
       "      <th>Wadjda</th>\n",
       "      <td>0.870567</td>\n",
       "    </tr>\n",
       "    <tr>\n",
       "      <th>For Colored Girls</th>\n",
       "      <td>0.870247</td>\n",
       "    </tr>\n",
       "    <tr>\n",
       "      <th>The Roommate</th>\n",
       "      <td>0.869879</td>\n",
       "    </tr>\n",
       "    <tr>\n",
       "      <th>Mrs. Winterbourne</th>\n",
       "      <td>0.864730</td>\n",
       "    </tr>\n",
       "    <tr>\n",
       "      <th>Practical Magic</th>\n",
       "      <td>0.856693</td>\n",
       "    </tr>\n",
       "  </tbody>\n",
       "</table>\n",
       "</div>"
      ],
      "text/plain": [
       "                                proportion_of_dialogue\n",
       "title                                                 \n",
       "The Descent                                   1.000000\n",
       "Now and Then                                  1.000000\n",
       "Precious                                      0.993541\n",
       "Martyrs                                       0.965550\n",
       "The Hand That Rocks the Cradle                0.933750\n",
       "Agnes of God                                  0.922482\n",
       "Heavenly Creatures                            0.919368\n",
       "The Help                                      0.916947\n",
       "3 Women                                       0.899530\n",
       "The Watermelon Woman                          0.894676\n",
       "Grandma                                       0.894137\n",
       "The Craft                                     0.891866\n",
       "Easy A                                        0.888131\n",
       "The Others                                    0.879972\n",
       "Black Christmas                               0.877467\n",
       "Wadjda                                        0.870567\n",
       "For Colored Girls                             0.870247\n",
       "The Roommate                                  0.869879\n",
       "Mrs. Winterbourne                             0.864730\n",
       "Practical Magic                               0.856693"
      ]
     },
     "execution_count": 87,
     "metadata": {},
     "output_type": "execute_result"
    }
   ],
   "source": [
    "women_film_df.groupby('title')[['proportion_of_dialogue']]\\\n",
    ".sum().sort_values(by='proportion_of_dialogue', ascending=False)[:20]"
   ]
  },
  {
   "cell_type": "markdown",
   "metadata": {},
   "source": [
    "## 8. Reset Index"
   ]
  },
  {
   "cell_type": "markdown",
   "metadata": {},
   "source": [
    "We can transform a Groupby object into a DataFrame with a regular Index by tacking on `.reset_index()`."
   ]
  },
  {
   "cell_type": "markdown",
   "metadata": {},
   "source": [
    "```{margin} Line Breaks\n",
    "If a line of code gets too long, you can create a line break with a backslash `\\`\n",
    "```"
   ]
  },
  {
   "cell_type": "code",
   "execution_count": 88,
   "metadata": {},
   "outputs": [
    {
     "data": {
      "text/html": [
       "<div>\n",
       "<style scoped>\n",
       "    .dataframe tbody tr th:only-of-type {\n",
       "        vertical-align: middle;\n",
       "    }\n",
       "\n",
       "    .dataframe tbody tr th {\n",
       "        vertical-align: top;\n",
       "    }\n",
       "\n",
       "    .dataframe thead th {\n",
       "        text-align: right;\n",
       "    }\n",
       "</style>\n",
       "<table border=\"1\" class=\"dataframe\">\n",
       "  <thead>\n",
       "    <tr style=\"text-align: right;\">\n",
       "      <th></th>\n",
       "      <th>title</th>\n",
       "      <th>proportion_of_dialogue</th>\n",
       "    </tr>\n",
       "  </thead>\n",
       "  <tbody>\n",
       "    <tr>\n",
       "      <th>0</th>\n",
       "      <td>The Descent</td>\n",
       "      <td>1.000000</td>\n",
       "    </tr>\n",
       "    <tr>\n",
       "      <th>1</th>\n",
       "      <td>Now and Then</td>\n",
       "      <td>1.000000</td>\n",
       "    </tr>\n",
       "    <tr>\n",
       "      <th>2</th>\n",
       "      <td>Precious</td>\n",
       "      <td>0.993541</td>\n",
       "    </tr>\n",
       "    <tr>\n",
       "      <th>3</th>\n",
       "      <td>Martyrs</td>\n",
       "      <td>0.965550</td>\n",
       "    </tr>\n",
       "    <tr>\n",
       "      <th>4</th>\n",
       "      <td>The Hand That Rocks the Cradle</td>\n",
       "      <td>0.933750</td>\n",
       "    </tr>\n",
       "    <tr>\n",
       "      <th>...</th>\n",
       "      <td>...</td>\n",
       "      <td>...</td>\n",
       "    </tr>\n",
       "    <tr>\n",
       "      <th>1935</th>\n",
       "      <td>The Last Castle</td>\n",
       "      <td>0.011139</td>\n",
       "    </tr>\n",
       "    <tr>\n",
       "      <th>1936</th>\n",
       "      <td>The Damned United</td>\n",
       "      <td>0.010909</td>\n",
       "    </tr>\n",
       "    <tr>\n",
       "      <th>1937</th>\n",
       "      <td>Thirteen Days</td>\n",
       "      <td>0.010834</td>\n",
       "    </tr>\n",
       "    <tr>\n",
       "      <th>1938</th>\n",
       "      <td>Men in Black 3</td>\n",
       "      <td>0.007812</td>\n",
       "    </tr>\n",
       "    <tr>\n",
       "      <th>1939</th>\n",
       "      <td>Full Metal Jacket</td>\n",
       "      <td>0.007170</td>\n",
       "    </tr>\n",
       "  </tbody>\n",
       "</table>\n",
       "<p>1940 rows × 2 columns</p>\n",
       "</div>"
      ],
      "text/plain": [
       "                               title  proportion_of_dialogue\n",
       "0                        The Descent                1.000000\n",
       "1                       Now and Then                1.000000\n",
       "2                           Precious                0.993541\n",
       "3                            Martyrs                0.965550\n",
       "4     The Hand That Rocks the Cradle                0.933750\n",
       "...                              ...                     ...\n",
       "1935                 The Last Castle                0.011139\n",
       "1936               The Damned United                0.010909\n",
       "1937                   Thirteen Days                0.010834\n",
       "1938                  Men in Black 3                0.007812\n",
       "1939               Full Metal Jacket                0.007170\n",
       "\n",
       "[1940 rows x 2 columns]"
      ]
     },
     "execution_count": 88,
     "metadata": {},
     "output_type": "execute_result"
    }
   ],
   "source": [
    "women_film_df.groupby('title')[['proportion_of_dialogue']]\\\n",
    ".sum().sort_values(by='proportion_of_dialogue', ascending=False).reset_index()"
   ]
  },
  {
   "cell_type": "markdown",
   "metadata": {},
   "source": [
    "## Bonus — Interactive Data Visualization"
   ]
  },
  {
   "cell_type": "code",
   "execution_count": 1,
   "metadata": {},
   "outputs": [
    {
     "ename": "ModuleNotFoundError",
     "evalue": "No module named 'bokeh'",
     "output_type": "error",
     "traceback": [
      "\u001b[1;31m---------------------------------------------------------------------------\u001b[0m",
      "\u001b[1;31mModuleNotFoundError\u001b[0m                       Traceback (most recent call last)",
      "\u001b[1;32mc:\\Users\\thoma\\OneDrive\\Documents\\GitHub\\3844f23-writing-digital-media\\book\\03-Pandas-Data-Analysis\\03-Pandas-Basics-Part3.ipynb Cell 114\u001b[0m line \u001b[0;36m2\n\u001b[0;32m      <a href='vscode-notebook-cell:/c%3A/Users/thoma/OneDrive/Documents/GitHub/3844f23-writing-digital-media/book/03-Pandas-Data-Analysis/03-Pandas-Basics-Part3.ipynb#Y221sZmlsZQ%3D%3D?line=0'>1</a>\u001b[0m \u001b[39m#Import necessary Bokeh modules\u001b[39;00m\n\u001b[1;32m----> <a href='vscode-notebook-cell:/c%3A/Users/thoma/OneDrive/Documents/GitHub/3844f23-writing-digital-media/book/03-Pandas-Data-Analysis/03-Pandas-Basics-Part3.ipynb#Y221sZmlsZQ%3D%3D?line=1'>2</a>\u001b[0m \u001b[39mfrom\u001b[39;00m \u001b[39mbokeh\u001b[39;00m\u001b[39m.\u001b[39;00m\u001b[39mplotting\u001b[39;00m \u001b[39mimport\u001b[39;00m figure, show\n\u001b[0;32m      <a href='vscode-notebook-cell:/c%3A/Users/thoma/OneDrive/Documents/GitHub/3844f23-writing-digital-media/book/03-Pandas-Data-Analysis/03-Pandas-Basics-Part3.ipynb#Y221sZmlsZQ%3D%3D?line=2'>3</a>\u001b[0m \u001b[39mfrom\u001b[39;00m \u001b[39mbokeh\u001b[39;00m\u001b[39m.\u001b[39;00m\u001b[39mmodels\u001b[39;00m \u001b[39mimport\u001b[39;00m ColumnDataSource, NumeralTickFormatter\n\u001b[0;32m      <a href='vscode-notebook-cell:/c%3A/Users/thoma/OneDrive/Documents/GitHub/3844f23-writing-digital-media/book/03-Pandas-Data-Analysis/03-Pandas-Basics-Part3.ipynb#Y221sZmlsZQ%3D%3D?line=3'>4</a>\u001b[0m \u001b[39mfrom\u001b[39;00m \u001b[39mbokeh\u001b[39;00m\u001b[39m.\u001b[39;00m\u001b[39mio\u001b[39;00m \u001b[39mimport\u001b[39;00m output_notebook, show\n",
      "\u001b[1;31mModuleNotFoundError\u001b[0m: No module named 'bokeh'"
     ]
    }
   ],
   "source": [
    "#Import necessary Bokeh modules\n",
    "from bokeh.plotting import figure, show\n",
    "from bokeh.models import ColumnDataSource, NumeralTickFormatter\n",
    "from bokeh.io import output_notebook, show\n",
    "from bokeh.palettes import RdBu\n",
    "from bokeh.transform import linear_cmap, jitter"
   ]
  },
  {
   "cell_type": "code",
   "execution_count": null,
   "metadata": {},
   "outputs": [
    {
     "data": {
      "text/html": [
       "\n",
       "    <div class=\"bk-root\">\n",
       "        <a href=\"https://bokeh.org\" target=\"_blank\" class=\"bk-logo bk-logo-small bk-logo-notebook\"></a>\n",
       "        <span id=\"1002\">Loading BokehJS ...</span>\n",
       "    </div>"
      ]
     },
     "metadata": {},
     "output_type": "display_data"
    },
    {
     "data": {
      "application/javascript": "\n(function(root) {\n  function now() {\n    return new Date();\n  }\n\n  const force = true;\n\n  if (typeof root._bokeh_onload_callbacks === \"undefined\" || force === true) {\n    root._bokeh_onload_callbacks = [];\n    root._bokeh_is_loading = undefined;\n  }\n\n  const JS_MIME_TYPE = 'application/javascript';\n  const HTML_MIME_TYPE = 'text/html';\n  const EXEC_MIME_TYPE = 'application/vnd.bokehjs_exec.v0+json';\n  const CLASS_NAME = 'output_bokeh rendered_html';\n\n  /**\n   * Render data to the DOM node\n   */\n  function render(props, node) {\n    const script = document.createElement(\"script\");\n    node.appendChild(script);\n  }\n\n  /**\n   * Handle when an output is cleared or removed\n   */\n  function handleClearOutput(event, handle) {\n    const cell = handle.cell;\n\n    const id = cell.output_area._bokeh_element_id;\n    const server_id = cell.output_area._bokeh_server_id;\n    // Clean up Bokeh references\n    if (id != null && id in Bokeh.index) {\n      Bokeh.index[id].model.document.clear();\n      delete Bokeh.index[id];\n    }\n\n    if (server_id !== undefined) {\n      // Clean up Bokeh references\n      const cmd_clean = \"from bokeh.io.state import curstate; print(curstate().uuid_to_server['\" + server_id + \"'].get_sessions()[0].document.roots[0]._id)\";\n      cell.notebook.kernel.execute(cmd_clean, {\n        iopub: {\n          output: function(msg) {\n            const id = msg.content.text.trim();\n            if (id in Bokeh.index) {\n              Bokeh.index[id].model.document.clear();\n              delete Bokeh.index[id];\n            }\n          }\n        }\n      });\n      // Destroy server and session\n      const cmd_destroy = \"import bokeh.io.notebook as ion; ion.destroy_server('\" + server_id + \"')\";\n      cell.notebook.kernel.execute(cmd_destroy);\n    }\n  }\n\n  /**\n   * Handle when a new output is added\n   */\n  function handleAddOutput(event, handle) {\n    const output_area = handle.output_area;\n    const output = handle.output;\n\n    // limit handleAddOutput to display_data with EXEC_MIME_TYPE content only\n    if ((output.output_type != \"display_data\") || (!Object.prototype.hasOwnProperty.call(output.data, EXEC_MIME_TYPE))) {\n      return\n    }\n\n    const toinsert = output_area.element.find(\".\" + CLASS_NAME.split(' ')[0]);\n\n    if (output.metadata[EXEC_MIME_TYPE][\"id\"] !== undefined) {\n      toinsert[toinsert.length - 1].firstChild.textContent = output.data[JS_MIME_TYPE];\n      // store reference to embed id on output_area\n      output_area._bokeh_element_id = output.metadata[EXEC_MIME_TYPE][\"id\"];\n    }\n    if (output.metadata[EXEC_MIME_TYPE][\"server_id\"] !== undefined) {\n      const bk_div = document.createElement(\"div\");\n      bk_div.innerHTML = output.data[HTML_MIME_TYPE];\n      const script_attrs = bk_div.children[0].attributes;\n      for (let i = 0; i < script_attrs.length; i++) {\n        toinsert[toinsert.length - 1].firstChild.setAttribute(script_attrs[i].name, script_attrs[i].value);\n        toinsert[toinsert.length - 1].firstChild.textContent = bk_div.children[0].textContent\n      }\n      // store reference to server id on output_area\n      output_area._bokeh_server_id = output.metadata[EXEC_MIME_TYPE][\"server_id\"];\n    }\n  }\n\n  function register_renderer(events, OutputArea) {\n\n    function append_mime(data, metadata, element) {\n      // create a DOM node to render to\n      const toinsert = this.create_output_subarea(\n        metadata,\n        CLASS_NAME,\n        EXEC_MIME_TYPE\n      );\n      this.keyboard_manager.register_events(toinsert);\n      // Render to node\n      const props = {data: data, metadata: metadata[EXEC_MIME_TYPE]};\n      render(props, toinsert[toinsert.length - 1]);\n      element.append(toinsert);\n      return toinsert\n    }\n\n    /* Handle when an output is cleared or removed */\n    events.on('clear_output.CodeCell', handleClearOutput);\n    events.on('delete.Cell', handleClearOutput);\n\n    /* Handle when a new output is added */\n    events.on('output_added.OutputArea', handleAddOutput);\n\n    /**\n     * Register the mime type and append_mime function with output_area\n     */\n    OutputArea.prototype.register_mime_type(EXEC_MIME_TYPE, append_mime, {\n      /* Is output safe? */\n      safe: true,\n      /* Index of renderer in `output_area.display_order` */\n      index: 0\n    });\n  }\n\n  // register the mime type if in Jupyter Notebook environment and previously unregistered\n  if (root.Jupyter !== undefined) {\n    const events = require('base/js/events');\n    const OutputArea = require('notebook/js/outputarea').OutputArea;\n\n    if (OutputArea.prototype.mime_types().indexOf(EXEC_MIME_TYPE) == -1) {\n      register_renderer(events, OutputArea);\n    }\n  }\n\n  \n  if (typeof (root._bokeh_timeout) === \"undefined\" || force === true) {\n    root._bokeh_timeout = Date.now() + 5000;\n    root._bokeh_failed_load = false;\n  }\n\n  const NB_LOAD_WARNING = {'data': {'text/html':\n     \"<div style='background-color: #fdd'>\\n\"+\n     \"<p>\\n\"+\n     \"BokehJS does not appear to have successfully loaded. If loading BokehJS from CDN, this \\n\"+\n     \"may be due to a slow or bad network connection. Possible fixes:\\n\"+\n     \"</p>\\n\"+\n     \"<ul>\\n\"+\n     \"<li>re-rerun `output_notebook()` to attempt to load from CDN again, or</li>\\n\"+\n     \"<li>use INLINE resources instead, as so:</li>\\n\"+\n     \"</ul>\\n\"+\n     \"<code>\\n\"+\n     \"from bokeh.resources import INLINE\\n\"+\n     \"output_notebook(resources=INLINE)\\n\"+\n     \"</code>\\n\"+\n     \"</div>\"}};\n\n  function display_loaded() {\n    const el = document.getElementById(\"1002\");\n    if (el != null) {\n      el.textContent = \"BokehJS is loading...\";\n    }\n    if (root.Bokeh !== undefined) {\n      if (el != null) {\n        el.textContent = \"BokehJS \" + root.Bokeh.version + \" successfully loaded.\";\n      }\n    } else if (Date.now() < root._bokeh_timeout) {\n      setTimeout(display_loaded, 100)\n    }\n  }\n\n\n  function run_callbacks() {\n    try {\n      root._bokeh_onload_callbacks.forEach(function(callback) {\n        if (callback != null)\n          callback();\n      });\n    } finally {\n      delete root._bokeh_onload_callbacks\n    }\n    console.debug(\"Bokeh: all callbacks have finished\");\n  }\n\n  function load_libs(css_urls, js_urls, callback) {\n    if (css_urls == null) css_urls = [];\n    if (js_urls == null) js_urls = [];\n\n    root._bokeh_onload_callbacks.push(callback);\n    if (root._bokeh_is_loading > 0) {\n      console.debug(\"Bokeh: BokehJS is being loaded, scheduling callback at\", now());\n      return null;\n    }\n    if (js_urls == null || js_urls.length === 0) {\n      run_callbacks();\n      return null;\n    }\n    console.debug(\"Bokeh: BokehJS not loaded, scheduling load and callback at\", now());\n    root._bokeh_is_loading = css_urls.length + js_urls.length;\n\n    function on_load() {\n      root._bokeh_is_loading--;\n      if (root._bokeh_is_loading === 0) {\n        console.debug(\"Bokeh: all BokehJS libraries/stylesheets loaded\");\n        run_callbacks()\n      }\n    }\n\n    function on_error(url) {\n      console.error(\"failed to load \" + url);\n    }\n\n    for (let i = 0; i < css_urls.length; i++) {\n      const url = css_urls[i];\n      const element = document.createElement(\"link\");\n      element.onload = on_load;\n      element.onerror = on_error.bind(null, url);\n      element.rel = \"stylesheet\";\n      element.type = \"text/css\";\n      element.href = url;\n      console.debug(\"Bokeh: injecting link tag for BokehJS stylesheet: \", url);\n      document.body.appendChild(element);\n    }\n\n    for (let i = 0; i < js_urls.length; i++) {\n      const url = js_urls[i];\n      const element = document.createElement('script');\n      element.onload = on_load;\n      element.onerror = on_error.bind(null, url);\n      element.async = false;\n      element.src = url;\n      console.debug(\"Bokeh: injecting script tag for BokehJS library: \", url);\n      document.head.appendChild(element);\n    }\n  };\n\n  function inject_raw_css(css) {\n    const element = document.createElement(\"style\");\n    element.appendChild(document.createTextNode(css));\n    document.body.appendChild(element);\n  }\n\n  \n  const js_urls = [\"https://cdn.bokeh.org/bokeh/release/bokeh-2.4.2.min.js\", \"https://cdn.bokeh.org/bokeh/release/bokeh-gl-2.4.2.min.js\", \"https://cdn.bokeh.org/bokeh/release/bokeh-widgets-2.4.2.min.js\", \"https://cdn.bokeh.org/bokeh/release/bokeh-tables-2.4.2.min.js\", \"https://cdn.bokeh.org/bokeh/release/bokeh-mathjax-2.4.2.min.js\"];\n  const css_urls = [];\n  \n\n  const inline_js = [\n    function(Bokeh) {\n      Bokeh.set_log_level(\"info\");\n    },\n    function(Bokeh) {\n    \n    \n    }\n  ];\n\n  function run_inline_js() {\n    \n    if (root.Bokeh !== undefined || force === true) {\n      \n    for (let i = 0; i < inline_js.length; i++) {\n      inline_js[i].call(root, root.Bokeh);\n    }\n    if (force === true) {\n        display_loaded();\n      }} else if (Date.now() < root._bokeh_timeout) {\n      setTimeout(run_inline_js, 100);\n    } else if (!root._bokeh_failed_load) {\n      console.log(\"Bokeh: BokehJS failed to load within specified timeout.\");\n      root._bokeh_failed_load = true;\n    } else if (force !== true) {\n      const cell = $(document.getElementById(\"1002\")).parents('.cell').data().cell;\n      cell.output_area.append_execute_result(NB_LOAD_WARNING)\n    }\n\n  }\n\n  if (root._bokeh_is_loading === 0) {\n    console.debug(\"Bokeh: BokehJS loaded, going straight to plotting\");\n    run_inline_js();\n  } else {\n    load_libs(css_urls, js_urls, function() {\n      console.debug(\"Bokeh: BokehJS plotting callback run at\", now());\n      run_inline_js();\n    });\n  }\n}(window));",
      "application/vnd.bokehjs_load.v0+json": ""
     },
     "metadata": {},
     "output_type": "display_data"
    }
   ],
   "source": [
    "#Set up Bokeh to work in Jupyter notebook\n",
    "output_notebook()"
   ]
  },
  {
   "cell_type": "markdown",
   "metadata": {},
   "source": [
    "Here's an interactive data visualization of these Hollywood films by release year and percentage of women dialogue. This data viz was created with the Python library [Bokeh](https://docs.bokeh.org/en/latest/index.html), which we will discuss in some later lessons.\n",
    "\n",
    "* Scroll to zoom in\n",
    "* Hover to see more information about each point\n",
    "\n",
    "To see the code that created this visualization, select \"Click to show\" below."
   ]
  },
  {
   "cell_type": "code",
   "execution_count": 2,
   "metadata": {
    "tags": [
     "hide-input"
    ]
   },
   "outputs": [
    {
     "ename": "NameError",
     "evalue": "name 'women_film_df' is not defined",
     "output_type": "error",
     "traceback": [
      "\u001b[1;31m---------------------------------------------------------------------------\u001b[0m",
      "\u001b[1;31mNameError\u001b[0m                                 Traceback (most recent call last)",
      "\u001b[1;32mc:\\Users\\thoma\\OneDrive\\Documents\\GitHub\\3844f23-writing-digital-media\\book\\03-Pandas-Data-Analysis\\03-Pandas-Basics-Part3.ipynb Cell 117\u001b[0m line \u001b[0;36m2\n\u001b[0;32m      <a href='vscode-notebook-cell:/c%3A/Users/thoma/OneDrive/Documents/GitHub/3844f23-writing-digital-media/book/03-Pandas-Data-Analysis/03-Pandas-Basics-Part3.ipynb#Y224sZmlsZQ%3D%3D?line=0'>1</a>\u001b[0m \u001b[39m#Make groupby into a new DataFrame\u001b[39;00m\n\u001b[1;32m----> <a href='vscode-notebook-cell:/c%3A/Users/thoma/OneDrive/Documents/GitHub/3844f23-writing-digital-media/book/03-Pandas-Data-Analysis/03-Pandas-Basics-Part3.ipynb#Y224sZmlsZQ%3D%3D?line=1'>2</a>\u001b[0m dialogue_df \u001b[39m=\u001b[39m women_film_df\u001b[39m.\u001b[39mgroupby([\u001b[39m'\u001b[39m\u001b[39mtitle\u001b[39m\u001b[39m'\u001b[39m, \u001b[39m'\u001b[39m\u001b[39mrelease_year\u001b[39m\u001b[39m'\u001b[39m])[[\u001b[39m'\u001b[39m\u001b[39mproportion_of_dialogue\u001b[39m\u001b[39m'\u001b[39m]]\u001b[39m.\u001b[39msum()\\\n\u001b[0;32m      <a href='vscode-notebook-cell:/c%3A/Users/thoma/OneDrive/Documents/GitHub/3844f23-writing-digital-media/book/03-Pandas-Data-Analysis/03-Pandas-Basics-Part3.ipynb#Y224sZmlsZQ%3D%3D?line=2'>3</a>\u001b[0m \u001b[39m.\u001b[39msort_values(by\u001b[39m=\u001b[39m\u001b[39m'\u001b[39m\u001b[39mproportion_of_dialogue\u001b[39m\u001b[39m'\u001b[39m, ascending\u001b[39m=\u001b[39m\u001b[39mFalse\u001b[39;00m)\u001b[39m.\u001b[39mreset_index()\n\u001b[0;32m      <a href='vscode-notebook-cell:/c%3A/Users/thoma/OneDrive/Documents/GitHub/3844f23-writing-digital-media/book/03-Pandas-Data-Analysis/03-Pandas-Basics-Part3.ipynb#Y224sZmlsZQ%3D%3D?line=4'>5</a>\u001b[0m \u001b[39m# Set up the source data that will suppply the x,y columns and the film title hover text\u001b[39;00m\n\u001b[0;32m      <a href='vscode-notebook-cell:/c%3A/Users/thoma/OneDrive/Documents/GitHub/3844f23-writing-digital-media/book/03-Pandas-Data-Analysis/03-Pandas-Basics-Part3.ipynb#Y224sZmlsZQ%3D%3D?line=5'>6</a>\u001b[0m source \u001b[39m=\u001b[39m ColumnDataSource(dialogue_df)\n",
      "\u001b[1;31mNameError\u001b[0m: name 'women_film_df' is not defined"
     ]
    }
   ],
   "source": [
    "#Make groupby into a new DataFrame\n",
    "dialogue_df = women_film_df.groupby(['title', 'release_year'])[['proportion_of_dialogue']].sum()\\\n",
    ".sort_values(by='proportion_of_dialogue', ascending=False).reset_index()\n",
    "\n",
    "# Set up the source data that will suppply the x,y columns and the film title hover text\n",
    "source = ColumnDataSource(dialogue_df)\n",
    "\n",
    "# Set the hover tool tip to the film title, release year, and proportion of dialogue\n",
    "\n",
    "TOOLTIPS = [(\"Title\", \"@title\"),\n",
    "            (\"Year\", \"@release_year\"),\n",
    "           (\"Women Dialogue\", \"@{proportion_of_dialogue}{%0.2f}\")]\n",
    "\n",
    "#Set up Bokeh plot with title, labels, \n",
    "bokeh_plot = figure(title=\"How Much Do Women Speak in Hollywood Films?\", x_axis_label = 'Film Release Year',\n",
    "                    y_axis_label = 'Amount of Dialogue Spoken By Women',x_range = [1930, 2018], y_range = [0, 1.01],\n",
    "                 tooltips=TOOLTIPS, width=800, height=550, active_scroll='wheel_zoom')\n",
    "\n",
    "# Create a red to blue color palette\n",
    "color_mapper = linear_cmap(field_name='proportion_of_dialogue', palette=RdBu[4], low=1.1, high=0)\n",
    "\n",
    "# Supply inidivudal points values\n",
    "bokeh_plot.circle(y='proportion_of_dialogue', x=jitter('release_year', width=.2),\n",
    "         size = 10,\n",
    "        line_color='black',\n",
    "        line_alpha=.4,\n",
    "         source=source,\n",
    "         color=color_mapper, alpha=.5)\n",
    "\n",
    "bokeh_plot.title.text_font_size='20pt'\n",
    "\n",
    "#Make Y axis percentages\n",
    "bokeh_plot.yaxis.formatter = NumeralTickFormatter(format='0 %')\n",
    "\n",
    "show(bokeh_plot)"
   ]
  }
 ],
 "metadata": {
  "kernelspec": {
   "display_name": "Python 3",
   "language": "python",
   "name": "python3"
  },
  "language_info": {
   "codemirror_mode": {
    "name": "ipython",
    "version": 3
   },
   "file_extension": ".py",
   "mimetype": "text/x-python",
   "name": "python",
   "nbconvert_exporter": "python",
   "pygments_lexer": "ipython3",
   "version": "3.9.13"
  }
 },
 "nbformat": 4,
 "nbformat_minor": 4
}
