{
 "cells": [
  {
   "cell_type": "markdown",
   "metadata": {},
   "source": [
    "# Functions"
   ]
  },
  {
   "cell_type": "markdown",
   "metadata": {},
   "source": [
    "## First a Review!"
   ]
  },
  {
   "cell_type": "markdown",
   "metadata": {},
   "source": [
    "### Python Formatting"
   ]
  },
  {
   "cell_type": "markdown",
   "metadata": {},
   "source": [
    "Inconsistent spacing — it works, but it's not ideal"
   ]
  },
  {
   "cell_type": "code",
   "execution_count": 5,
   "metadata": {},
   "outputs": [
    {
     "name": "stdout",
     "output_type": "stream",
     "text": [
      "It is piping hot!\n"
     ]
    }
   ],
   "source": [
    "temperature = 70\n",
    "if temperature>=70:\n",
    "    print ('It is piping hot!')"
   ]
  },
  {
   "cell_type": "markdown",
   "metadata": {},
   "source": [
    "Consistent spacing — it works, and it's more ideal!"
   ]
  },
  {
   "cell_type": "code",
   "execution_count": 6,
   "metadata": {},
   "outputs": [
    {
     "name": "stdout",
     "output_type": "stream",
     "text": [
      "It is piping hot!\n"
     ]
    }
   ],
   "source": [
    "if temperature >= 70:\n",
    "    print('It is piping hot!')"
   ]
  },
  {
   "cell_type": "markdown",
   "metadata": {},
   "source": [
    "Inconsistent spacing — it works, but it's not ideal"
   ]
  },
  {
   "cell_type": "code",
   "execution_count": 8,
   "metadata": {},
   "outputs": [
    {
     "data": {
      "text/plain": [
       "[' kiwi ', ' kumquat ', ' apple ']"
      ]
     },
     "execution_count": 8,
     "metadata": {},
     "output_type": "execute_result"
    }
   ],
   "source": [
    "fruits = [' kiwi ', ' kumquat ', ' apple ']\n",
    "fruits"
   ]
  },
  {
   "cell_type": "code",
   "execution_count": 9,
   "metadata": {},
   "outputs": [
    {
     "data": {
      "text/plain": [
       "'kumquat'"
      ]
     },
     "execution_count": 9,
     "metadata": {},
     "output_type": "execute_result"
    }
   ],
   "source": [
    "fruits [1] .strip()"
   ]
  },
  {
   "cell_type": "markdown",
   "metadata": {},
   "source": [
    "Consistent spacing — it works, and it's more ideal!"
   ]
  },
  {
   "cell_type": "code",
   "execution_count": 10,
   "metadata": {},
   "outputs": [
    {
     "data": {
      "text/plain": [
       "'kumquat'"
      ]
     },
     "execution_count": 10,
     "metadata": {},
     "output_type": "execute_result"
    }
   ],
   "source": [
    "fruits[1].strip()"
   ]
  },
  {
   "cell_type": "markdown",
   "metadata": {},
   "source": [
    "### Importing and Using Python Packages/Libraries/Modules"
   ]
  },
  {
   "cell_type": "markdown",
   "metadata": {},
   "source": [
    "You can use pre-made Python code designed by other people — otherwise known as **modules, packages, or libraries** — by using an `import` statement. \n",
    "\n",
    "Some libraries are already included in the Python language, while others are written by others in the language community and available to import and use. Pretty rad!\n",
    "\n",
    "For example, the `Counter` module will count items and return a dictionary: https://docs.python.org/3/library/collections.html#collections.Counter"
   ]
  },
  {
   "cell_type": "code",
   "execution_count": 11,
   "metadata": {},
   "outputs": [],
   "source": [
    "from collections import Counter"
   ]
  },
  {
   "cell_type": "code",
   "execution_count": 12,
   "metadata": {},
   "outputs": [
    {
     "data": {
      "text/plain": [
       "Counter({'kiwi': 3, 'apple': 2, 'orange': 2, 'banana': 1, 'kumquat': 1})"
      ]
     },
     "execution_count": 12,
     "metadata": {},
     "output_type": "execute_result"
    }
   ],
   "source": [
    "fruits = ['apple', 'banana', 'kiwi', 'apple', 'kumquat', 'orange', 'orange', 'kiwi', 'kiwi']\n",
    "Counter(fruits)"
   ]
  },
  {
   "cell_type": "code",
   "execution_count": 13,
   "metadata": {},
   "outputs": [
    {
     "data": {
      "text/plain": [
       "[('kiwi', 3), ('apple', 2), ('orange', 2)]"
      ]
     },
     "execution_count": 13,
     "metadata": {},
     "output_type": "execute_result"
    }
   ],
   "source": [
    "Counter(fruits).most_common(3)"
   ]
  },
  {
   "cell_type": "markdown",
   "metadata": {},
   "source": [
    "The [regular expressions](https://docs.python.org/3/library/re.html) module, imported as `re`, will allow you to use regular expressions — a special pattern-matching language that allows you to do sophisticated find-and-replace and text manipulation. We will discuss regular expressions more in the coming weeks. \n",
    "\n",
    "Here are some example patterns:\n",
    "\n",
    "\n",
    "| Regular Expression Pattern       | Matches |\n",
    "|:---------------------------:|:-----------------------------------------------------------------------------------------------------------:|\n",
    "| `\\w` | word                                         | \n",
    "| `\\W`                      | NOT word                                           |  \n",
    "| `\\d` | digit                                         | \n",
    "| `\\D`                      | NOT digit                                           \n",
    "| `+`                      | 1 or more instances                                       | \n",
    "| `{4}`                      | Exactly 4 instances                                         \n",
    "                   \n"
   ]
  },
  {
   "cell_type": "code",
   "execution_count": 14,
   "metadata": {},
   "outputs": [
    {
     "data": {
      "text/plain": [
       "[\"I'm\",\n",
       " 'presenting',\n",
       " 'this',\n",
       " 'sample',\n",
       " 'string:',\n",
       " 'feel',\n",
       " 'free',\n",
       " 'to',\n",
       " 'copy',\n",
       " 'this',\n",
       " 'construction.']"
      ]
     },
     "execution_count": 14,
     "metadata": {},
     "output_type": "execute_result"
    }
   ],
   "source": [
    "import re\n",
    "sample_string = \"I'm presenting this sample string: feel free to copy this construction.\"\n",
    "sample_string.split()"
   ]
  },
  {
   "cell_type": "code",
   "execution_count": 15,
   "metadata": {},
   "outputs": [
    {
     "data": {
      "text/plain": [
       "['I',\n",
       " 'm',\n",
       " 'presenting',\n",
       " 'this',\n",
       " 'sample',\n",
       " 'string',\n",
       " 'feel',\n",
       " 'free',\n",
       " 'to',\n",
       " 'copy',\n",
       " 'this',\n",
       " 'construction',\n",
       " '']"
      ]
     },
     "execution_count": 15,
     "metadata": {},
     "output_type": "execute_result"
    }
   ],
   "source": [
    "re.split('\\W+', sample_string)"
   ]
  },
  {
   "cell_type": "code",
   "execution_count": 21,
   "metadata": {},
   "outputs": [
    {
     "data": {
      "text/plain": [
       "'This is a string with a year in it 1984 but it also has an age 72 and a salary 52k'"
      ]
     },
     "execution_count": 21,
     "metadata": {},
     "output_type": "execute_result"
    }
   ],
   "source": [
    "year_string = \"This is a string with a year in it 1984 but it also has an age 72 and a salary 52k\"\n",
    "year_string"
   ]
  },
  {
   "cell_type": "code",
   "execution_count": 24,
   "metadata": {},
   "outputs": [
    {
     "data": {
      "text/plain": [
       "'1984'"
      ]
     },
     "execution_count": 24,
     "metadata": {},
     "output_type": "execute_result"
    }
   ],
   "source": [
    "re.search('\\d{4}', year_string).group()"
   ]
  },
  {
   "cell_type": "markdown",
   "metadata": {},
   "source": [
    "## Intro to Functions"
   ]
  },
  {
   "cell_type": "markdown",
   "metadata": {},
   "source": [
    "<img src=\"https://www.tintoyarcade.com/image/cache/data/product/Images_5100_5199/TTA5100-Penguin-Windup-01-1000x1000.jpg\" style=\"width:300px;float:left;border-radius: 10px;margin-right:1rem\">A *function* is way of bundling up code to perform specific tasks. It's kind of like making a little Python wind-up toy that runs on command.\n",
    "\n",
    "Functions are useful because they can help make your code more organized and save you from repetition. If you have to do some task over and over again, you don't want to write out the same code over and over again from scratch. \n",
    "\n",
    "We've encountered built-in Python functions many times already, including:\n",
    "- `print()`\n",
    "- `len()`\n",
    "- `type()`  \n",
    "\n",
    "These functions contain bundled up code that perform specific tasks whenever we call them."
   ]
  },
  {
   "cell_type": "markdown",
   "metadata": {},
   "source": [
    "## 1. How to Define a Function"
   ]
  },
  {
   "cell_type": "markdown",
   "metadata": {},
   "source": [
    "To make your own function, you use the keyword `def`, short for *define*, followed by your desired name for the function, parentheses (`()`) and a colon (`:`).\n",
    "\n",
    "Then, on the following lines, you indent one tab over and write some code that you want your function to perform. "
   ]
  },
  {
   "cell_type": "code",
   "execution_count": 1,
   "metadata": {},
   "outputs": [],
   "source": [
    "def sing_beyonce_lyrics():\n",
    "    print(\"Okay, okay, ladies, now let's get in formation, 'cause I slay\")\n",
    "    print(\"Okay, ladies, now let's get in formation, 'cause I slay\")\n",
    "    print(\"Prove to me you got some coordination, 'cause I slay\")\n",
    "    print(\"Slay trick, or you get eliminated\")\n",
    "    return "
   ]
  },
  {
   "cell_type": "markdown",
   "metadata": {},
   "source": [
    "Finally, you complete the function with a `return` statement. Sometimes you will want to `return` a specific value but here we're not returning anything."
   ]
  },
  {
   "cell_type": "markdown",
   "metadata": {},
   "source": [
    "If you don't indent the line following the definition of the function, you will get an error. Behold the importance of the indent:"
   ]
  },
  {
   "cell_type": "code",
   "execution_count": 44,
   "metadata": {},
   "outputs": [
    {
     "ename": "IndentationError",
     "evalue": "expected an indented block (<ipython-input-44-84eb5910ae83>, line 2)",
     "output_type": "error",
     "traceback": [
      "\u001b[0;36m  File \u001b[0;32m\"<ipython-input-44-84eb5910ae83>\"\u001b[0;36m, line \u001b[0;32m2\u001b[0m\n\u001b[0;31m    print(\"Okay, okay, ladies, now let's get in formation, 'cause I slay\")\u001b[0m\n\u001b[0m        ^\u001b[0m\n\u001b[0;31mIndentationError\u001b[0m\u001b[0;31m:\u001b[0m expected an indented block\n"
     ]
    }
   ],
   "source": [
    "def sing_beyonce_lyrics():\n",
    "print(\"Okay, okay, ladies, now let's get in formation, 'cause I slay\")\n",
    "print(\"Okay, ladies, now let's get in formation, 'cause I slay\")\n",
    "print(\"Prove to me you got some coordination, 'cause I slay\")\n",
    "print(\"Slay trick, or you get eliminated\")\n",
    "    return "
   ]
  },
  {
   "cell_type": "markdown",
   "metadata": {},
   "source": [
    "## 2. How to Call a Function"
   ]
  },
  {
   "cell_type": "markdown",
   "metadata": {},
   "source": [
    "To use or \"call\" a function, you simply type the name of the function with parentheses."
   ]
  },
  {
   "cell_type": "code",
   "execution_count": 9,
   "metadata": {},
   "outputs": [
    {
     "name": "stdout",
     "output_type": "stream",
     "text": [
      "Okay, okay, ladies, now let's get in formation, 'cause I slay\n",
      "Okay, ladies, now let's get in formation, 'cause I slay\n",
      "Prove to me you got some coordination, 'cause I slay\n",
      "Slay trick, or you get eliminated\n"
     ]
    }
   ],
   "source": [
    "sing_beyonce_lyrics()"
   ]
  },
  {
   "cell_type": "code",
   "execution_count": 16,
   "metadata": {},
   "outputs": [],
   "source": [
    "def sing_happy_birthday():\n",
    "    print(\"Happy Birthday to you\")\n",
    "    print(\"Happy Birthday to you\")\n",
    "    print(\"Happy Birthday dear human life form\")\n",
    "    print(\"Happy Birthday to you\")\n",
    "    return "
   ]
  },
  {
   "cell_type": "code",
   "execution_count": 17,
   "metadata": {},
   "outputs": [
    {
     "name": "stdout",
     "output_type": "stream",
     "text": [
      "Happy Birthday to you\n",
      "Happy Birthday to you\n",
      "Happy Birthday dear human life form\n",
      "Happy Birthday to you\n"
     ]
    }
   ],
   "source": [
    "sing_happy_birthday()"
   ]
  },
  {
   "cell_type": "markdown",
   "metadata": {},
   "source": [
    "## 3. How to Add Parameters/Arguments"
   ]
  },
  {
   "cell_type": "markdown",
   "metadata": {},
   "source": [
    "You can add \"parameters\" to your functions—or values that are required by your function—by putting parameter names inside the parentheses.\n",
    "\n",
    "For example, if we want to personalize our birthday song function to include a specific person's name, we can add the parameter `personalized_name` inside the parentheses, which will require a personalized name to be passed to the function. The thing you pass to the function is called an \"argument.\" \n",
    "\n",
    "- parameter = `personalized_name` (thing that requires a value for the function) \n",
    "- argument = \"Beyonce\" (actual value passed to function)\n",
    "\n",
    "Since parameters and arguments are so interrelated, they're sometimes confused for each other. You can read [Python's official distinction here](https://docs.python.org/3.3/faq/programming.html#faq-argument-vs-parameter)."
   ]
  },
  {
   "cell_type": "code",
   "execution_count": 20,
   "metadata": {},
   "outputs": [],
   "source": [
    "def sing_personalized_happy_birthday(personalized_name):\n",
    "    print(\"Happy Birthday to you\")\n",
    "    print(\"Happy Birthday to you\")\n",
    "    print(f\"Happy Birthday dear {personalized_name}\")\n",
    "    print(\"Happy Birthday to you\")\n",
    "    return "
   ]
  },
  {
   "cell_type": "markdown",
   "metadata": {},
   "source": [
    "We're using whatever name gets passed to the function inside an f-string: `f\"Happy Birthday dear {personalized_name}\"`"
   ]
  },
  {
   "cell_type": "markdown",
   "metadata": {},
   "source": [
    "Once you set a parameter that requires an argument, you have to pass something inside the function for the function to run. So if we run `sing_personalized_happy_birthday()` as we did with `sing_happy_birthday()`, it won't work."
   ]
  },
  {
   "cell_type": "code",
   "execution_count": 21,
   "metadata": {},
   "outputs": [
    {
     "ename": "TypeError",
     "evalue": "sing_personalized_happy_birthday() missing 1 required positional argument: 'name'",
     "output_type": "error",
     "traceback": [
      "\u001b[0;31m---------------------------------------------------------------------------\u001b[0m",
      "\u001b[0;31mTypeError\u001b[0m                                 Traceback (most recent call last)",
      "\u001b[0;32m<ipython-input-21-c1982126dedb>\u001b[0m in \u001b[0;36m<module>\u001b[0;34m()\u001b[0m\n\u001b[0;32m----> 1\u001b[0;31m \u001b[0msing_personalized_happy_birthday\u001b[0m\u001b[0;34m(\u001b[0m\u001b[0;34m)\u001b[0m\u001b[0;34m\u001b[0m\u001b[0;34m\u001b[0m\u001b[0m\n\u001b[0m",
      "\u001b[0;31mTypeError\u001b[0m: sing_personalized_happy_birthday() missing 1 required positional argument: 'name'"
     ]
    }
   ],
   "source": [
    "sing_personalized_happy_birthday()"
   ]
  },
  {
   "cell_type": "markdown",
   "metadata": {},
   "source": [
    "This error is telling us that we have to pass in a value or \"argument.\""
   ]
  },
  {
   "cell_type": "code",
   "execution_count": 22,
   "metadata": {},
   "outputs": [
    {
     "name": "stdout",
     "output_type": "stream",
     "text": [
      "Happy Birthday to you\n",
      "Happy Birthday to you\n",
      "Happy Birthday dear Beyonce\n",
      "Happy Birthday to you\n"
     ]
    }
   ],
   "source": [
    "sing_personalized_happy_birthday(\"Beyonce\")"
   ]
  },
  {
   "cell_type": "code",
   "execution_count": 23,
   "metadata": {},
   "outputs": [
    {
     "name": "stdout",
     "output_type": "stream",
     "text": [
      "Happy Birthday to you\n",
      "Happy Birthday to you\n",
      "Happy Birthday dear Carly Rae Jepsen\n",
      "Happy Birthday to you\n"
     ]
    }
   ],
   "source": [
    "sing_personalized_happy_birthday(\"Carly Rae Jepsen\")"
   ]
  },
  {
   "cell_type": "code",
   "execution_count": null,
   "metadata": {},
   "outputs": [],
   "source": [
    "sing_personalized_happy_birthday(#Insert Your Name Here)"
   ]
  },
  {
   "cell_type": "markdown",
   "metadata": {},
   "source": [
    "## 4. Keyword Arguments"
   ]
  },
  {
   "cell_type": "markdown",
   "metadata": {},
   "source": [
    "There's another way that you can require arguments in a function, which is with *keyword arguments*. Before we were using \"positional arguments,\" where the function automatically knew that \"Beyonce\" was the `personalized_name` argument simply because \"Beyonce\" was in the right position. (There was only one argument required, so, duh.)\n",
    "\n",
    "But you can also explicitly define your arguments with keyword arguments that use an `=` sign, which can become more useful if you have multiple parameters. This can also be a way of setting default values in your functions."
   ]
  },
  {
   "cell_type": "code",
   "execution_count": 72,
   "metadata": {},
   "outputs": [],
   "source": [
    "def sing_keyword_happy_birthday(to_name='Beyonce', from_name='Info 1350'):\n",
    "    print(\"Happy Birthday to you\")\n",
    "    print(\"Happy Birthday to you\")\n",
    "    print(f\"Happy Birthday dear {to_name}\")\n",
    "    print(\"Happy Birthday to you\")\n",
    "    print(f\"\\nSincerely, \\n{from_name}\")\n",
    "    return "
   ]
  },
  {
   "cell_type": "markdown",
   "metadata": {},
   "source": [
    "For example, if we don't pass in any arguments into this function, it will use the default arguments."
   ]
  },
  {
   "cell_type": "code",
   "execution_count": 73,
   "metadata": {},
   "outputs": [
    {
     "name": "stdout",
     "output_type": "stream",
     "text": [
      "Happy Birthday to you\n",
      "Happy Birthday to you\n",
      "Happy Birthday dear Beyonce\n",
      "Happy Birthday to you\n",
      "\n",
      "Sincerely, \n",
      "Info 1350\n"
     ]
    }
   ],
   "source": [
    "sing_keyword_happy_birthday()"
   ]
  },
  {
   "cell_type": "markdown",
   "metadata": {},
   "source": [
    "But if we set the keyword arguments to different values—even if we switch the order or position of the arguments!—the function will know which arguments they're supposed to be."
   ]
  },
  {
   "cell_type": "code",
   "execution_count": 74,
   "metadata": {},
   "outputs": [
    {
     "name": "stdout",
     "output_type": "stream",
     "text": [
      "Happy Birthday to you\n",
      "Happy Birthday to you\n",
      "Happy Birthday dear Cookie Monster\n",
      "Happy Birthday to you\n",
      "\n",
      "Sincerely, \n",
      "Big Bird\n"
     ]
    }
   ],
   "source": [
    "sing_keyword_happy_birthday(from_name=\"Big Bird\", to_name=\"Cookie Monster\")"
   ]
  },
  {
   "cell_type": "markdown",
   "metadata": {},
   "source": [
    "## 5. Return Values"
   ]
  },
  {
   "cell_type": "markdown",
   "metadata": {},
   "source": [
    "In all of the examples above, we weren't returning any specific value, just using `print()` statements. But sometimes you want a specific value out of your function. For example, if we want to make a function that transforms a bit of text into very loud-sounding text, then we'll want to `return` that loud-sounding text."
   ]
  },
  {
   "cell_type": "code",
   "execution_count": 77,
   "metadata": {},
   "outputs": [],
   "source": [
    "def make_text_shouty(text):\n",
    "    shouty_text' = text.upper()\n",
    "    return shouty_text"
   ]
  },
  {
   "cell_type": "code",
   "execution_count": 78,
   "metadata": {},
   "outputs": [
    {
     "data": {
      "text/plain": [
       "'I LIKE TACOS'"
      ]
     },
     "execution_count": 78,
     "metadata": {},
     "output_type": "execute_result"
    }
   ],
   "source": [
    "make_text_shouty(\"I like tacos\")"
   ]
  },
  {
   "cell_type": "code",
   "execution_count": 79,
   "metadata": {},
   "outputs": [],
   "source": [
    "def make_text_shoutier(text):\n",
    "    shouty_text = text.upper()\n",
    "    shoutier_text = shouty_text + '!!!'\n",
    "    return shoutier_text"
   ]
  },
  {
   "cell_type": "code",
   "execution_count": 80,
   "metadata": {},
   "outputs": [
    {
     "data": {
      "text/plain": [
       "'I LIKE TACOS!!!'"
      ]
     },
     "execution_count": 80,
     "metadata": {},
     "output_type": "execute_result"
    }
   ],
   "source": [
    "make_text_shoutier(\"I like tacos\")"
   ]
  },
  {
   "cell_type": "code",
   "execution_count": 81,
   "metadata": {},
   "outputs": [],
   "source": [
    "def calculate_dog_years_age(age):\n",
    "    dog_years_age = age * 7\n",
    "    return dog_years_age"
   ]
  },
  {
   "cell_type": "code",
   "execution_count": 82,
   "metadata": {},
   "outputs": [
    {
     "data": {
      "text/plain": [
       "364"
      ]
     },
     "execution_count": 82,
     "metadata": {},
     "output_type": "execute_result"
    }
   ],
   "source": [
    "calculate_dog_years_age(52)"
   ]
  },
  {
   "cell_type": "markdown",
   "metadata": {},
   "source": [
    "## Exercise 1"
   ]
  },
  {
   "cell_type": "markdown",
   "metadata": {},
   "source": [
    "Make a function called `make_text_whispery` that transforms text to lower case"
   ]
  },
  {
   "cell_type": "code",
   "execution_count": 1,
   "metadata": {},
   "outputs": [],
   "source": [
    "def make_text_whispery(text):\n",
    "    whispery_text = text.lower()\n",
    "    return whispery_text"
   ]
  },
  {
   "cell_type": "markdown",
   "metadata": {},
   "source": [
    "Now insert the string \"I AM WHISPERING\" into `make_text_whispery`"
   ]
  },
  {
   "cell_type": "code",
   "execution_count": 2,
   "metadata": {},
   "outputs": [
    {
     "data": {
      "text/plain": [
       "'i am whispering'"
      ]
     },
     "execution_count": 2,
     "metadata": {},
     "output_type": "execute_result"
    }
   ],
   "source": [
    "make_text_whispery(\"I AM WHISPERING\")"
   ]
  },
  {
   "cell_type": "markdown",
   "metadata": {},
   "source": [
    "## Exercise 2"
   ]
  },
  {
   "cell_type": "markdown",
   "metadata": {},
   "source": [
    "<img src=\"https://i.pinimg.com/originals/62/9c/24/629c24707ded09d6fbe294e5de9e73a3.gif\" style=\"width:200px;float:left;margin-right:1rem\"> In 2018, there was a [heat wave](https://en.wikipedia.org/wiki/2018_British_Isles_heat_wave) in Scotland and Northern Ireland. Temperatures rose above 30 degrees Celsius. You want to know...is that a lot?\n",
    "\n",
    "To convert Celsius to Fahrenheit, you can use the following formula:\n",
    "\n",
    "`(0°C × 9/5) + 32 = 32°F`"
   ]
  },
  {
   "cell_type": "code",
   "execution_count": 3,
   "metadata": {},
   "outputs": [],
   "source": [
    "celsius = 30"
   ]
  },
  {
   "cell_type": "code",
   "execution_count": 4,
   "metadata": {},
   "outputs": [
    {
     "data": {
      "text/plain": [
       "86.0"
      ]
     },
     "execution_count": 4,
     "metadata": {},
     "output_type": "execute_result"
    }
   ],
   "source": [
    "(celsius * 9/5) + 32"
   ]
  },
  {
   "cell_type": "markdown",
   "metadata": {},
   "source": [
    "Now, write a function called `celsius_to_fahrenheit()` that will take in any temperature in Celsius and return the converted temperature in degrees Fahrenheit."
   ]
  },
  {
   "cell_type": "code",
   "execution_count": 13,
   "metadata": {},
   "outputs": [],
   "source": [
    "def celsius_to_fahrenheit(c):\n",
    "    f = (c * 9/5) + 32\n",
    "    return f"
   ]
  },
  {
   "cell_type": "code",
   "execution_count": 14,
   "metadata": {},
   "outputs": [
    {
     "data": {
      "text/plain": [
       "86.0"
      ]
     },
     "execution_count": 14,
     "metadata": {},
     "output_type": "execute_result"
    }
   ],
   "source": [
    "celsius_to_fahrenheit(30)"
   ]
  },
  {
   "cell_type": "markdown",
   "metadata": {},
   "source": [
    "A few weeks ago, the UK experienced a [cold snap](https://www.independent.co.uk/news/uk/home-news/uk-weather-rain-wind-snow-ice-freezing-b1802005.html). Temperatures plummeted to -8 degrees Celsius. You want to know: uhhh, is that a little?"
   ]
  },
  {
   "cell_type": "code",
   "execution_count": 15,
   "metadata": {},
   "outputs": [
    {
     "data": {
      "text/plain": [
       "17.6"
      ]
     },
     "execution_count": 15,
     "metadata": {},
     "output_type": "execute_result"
    }
   ],
   "source": [
    "celsius_to_fahrenheit(-8)"
   ]
  },
  {
   "cell_type": "markdown",
   "metadata": {},
   "source": [
    "What one person thinks is warm will be different from what another person thinks is warm., so let's make a new function `is_it_warm()` that builds on our `celsius_to_fahrenheit()` function. \n",
    "\n",
    "The `is_it_warm()` function will convert Celsius to Fahrenehit by using the already written `celsius_to_fahrenheit()` function. BUT, it will also print out a statement about whether it is warm outside.\n",
    "\n",
    "So this function will take in 2 arguments: \n",
    "\n",
    "1. Temperature in Celsius, and \n",
    "2. The threshold for what is considered a warm temperature\n",
    "\n",
    "**HINT**: I'll start you off below. You can call another function from within a function, as below. You should also consider how conditionals might prove useful to write this new function."
   ]
  },
  {
   "cell_type": "code",
   "execution_count": 16,
   "metadata": {},
   "outputs": [],
   "source": [
    "def is_it_warm(celsius_temp, my_threshold):\n",
    "    converted_temp = celsius_to_fahrenheit(celsius_temp)\n",
    "    if(converted_temp >= my_threshold):\n",
    "        print(\"It's warm today!\")\n",
    "    else:\n",
    "        print(\"It's not warm today!\")"
   ]
  },
  {
   "cell_type": "code",
   "execution_count": 17,
   "metadata": {},
   "outputs": [
    {
     "name": "stdout",
     "output_type": "stream",
     "text": [
      "It's warm today!\n"
     ]
    }
   ],
   "source": [
    "is_it_warm(25, 30)"
   ]
  },
  {
   "cell_type": "markdown",
   "metadata": {},
   "source": [
    "## Exercise 3 — Chinese Zodiac Calculator"
   ]
  },
  {
   "cell_type": "markdown",
   "metadata": {},
   "source": [
    "Make a function called `find_chinese_zodiac()` that will take in a birth year (as an integer) and then return/report their corresponding Chinese zodiac. Use the emojis below in the returned report. :-) \n",
    "\n",
    "Make sure to run the cell below, which establishes the list of eligible years for each Chinese zodiac sign.\n",
    "\n",
    "🐀 Rat  \n",
    "🐂 Ox  \n",
    "🐅 Tiger  \n",
    "🐇 Rabbit  \n",
    "🐉 Dragon  \n",
    "🐍 Snake  \n",
    "🐎 Horse  \n",
    "🐑 Sheep / 🐐 Goat / 🐏 Ram  \n",
    "🐒 Monkey  \n",
    "🐓 Rooster  \n",
    "🐕 Dog  \n",
    "🐖 Pig  "
   ]
  },
  {
   "cell_type": "code",
   "execution_count": 35,
   "metadata": {},
   "outputs": [],
   "source": [
    "zodiac = [\n",
    "    {'rat_years': [1924, 1936, 1948, 1960, 1972, 1984, 1996, 2008, 2020, 2032]},\n",
    "    {'ox_years': [1925, 1937, 1949, 1961, 1973, 1985, 1997, 2009, 2021, 2033]},\n",
    "    {'tiger_years': [1926, 1938, 1950, 1962, 1974, 1986, 1998, 2010, 2022, 2034]},\n",
    "    {'rabbit_years': [1927, 1939, 1951, 1963, 1975, 1987, 1999, 2011, 2023, 2035]},\n",
    "    {'dragon_years': [1928, 1940, 1952, 1964, 1976, 1988, 2000, 2012, 2024, 2036]},\n",
    "    {'snake_years': [1929, 1941, 1953, 1965, 1977, 1989, 2001, 2013, 2025, 2037]},\n",
    "    {'horse_years': [1930, 1942, 1954, 1966, 1978, 1990, 2002, 2014, 2026, 2038]},\n",
    "    {'sheep_years': [1931, 1943, 1955, 1967, 1979, 1991, 2003, 2015, 2027, 2039]},\n",
    "    {'monkey_years': [1932, 1944, 1956, 1968, 1980, 1992, 2004, 2016, 2028, 2040]},\n",
    "    {'rooster_years': [1933, 1945, 1957, 1969, 1981, 1993, 2005, 2017, 2029, 2041]},\n",
    "    {'dog_years': [1934, 1946, 1958, 1970, 1982, 1994, 2006, 2018, 2030, 2042]},\n",
    "    {'pig_years': [1935, 1947, 1959, 1971, 1983, 1995, 2007, 2019, 2031, 2043]}\n",
    "]"
   ]
  },
  {
   "cell_type": "code",
   "execution_count": 46,
   "metadata": {},
   "outputs": [
    {
     "name": "stdout",
     "output_type": "stream",
     "text": [
      "type: <class 'list'> \n",
      "type: <class 'dict'> \n",
      "type: <class 'list'>\n"
     ]
    }
   ],
   "source": [
    "print(\n",
    "    'type:', type(zodiac),\n",
    "    '\\ntype:', type(zodiac[0]),\n",
    "    '\\ntype:', type(zodiac[0]['rat_years']),\n",
    ")"
   ]
  },
  {
   "cell_type": "code",
   "execution_count": 78,
   "metadata": {},
   "outputs": [],
   "source": [
    "def find_chinese_zodiac(year):\n",
    "    for dict in zodiac:\n",
    "        if dict[list(dict.keys())[0]].__contains__(year):\n",
    "            print(list(dict.keys())[0][:-1])"
   ]
  },
  {
   "cell_type": "code",
   "execution_count": 79,
   "metadata": {},
   "outputs": [
    {
     "name": "stdout",
     "output_type": "stream",
     "text": [
      "rat_year\n"
     ]
    }
   ],
   "source": [
    "# Should print out something like \"You were born in the year of the Rat 🐀\"\n",
    "find_chinese_zodiac(2008)"
   ]
  },
  {
   "cell_type": "code",
   "execution_count": 80,
   "metadata": {},
   "outputs": [
    {
     "name": "stdout",
     "output_type": "stream",
     "text": [
      "horse_year\n"
     ]
    }
   ],
   "source": [
    "find_chinese_zodiac(2002)"
   ]
  }
 ],
 "metadata": {
  "kernelspec": {
   "display_name": "Python 3",
   "language": "python",
   "name": "python3"
  },
  "language_info": {
   "codemirror_mode": {
    "name": "ipython",
    "version": 3
   },
   "file_extension": ".py",
   "mimetype": "text/x-python",
   "name": "python",
   "nbconvert_exporter": "python",
   "pygments_lexer": "ipython3",
   "version": "3.9.13"
  }
 },
 "nbformat": 4,
 "nbformat_minor": 4
}
