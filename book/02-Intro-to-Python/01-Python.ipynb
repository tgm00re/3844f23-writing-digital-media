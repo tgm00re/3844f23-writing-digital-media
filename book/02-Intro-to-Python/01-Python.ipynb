{
 "cells": [
  {
   "cell_type": "markdown",
   "metadata": {},
   "source": [
    "# Programming in Python"
   ]
  },
  {
   "cell_type": "markdown",
   "metadata": {},
   "source": [
    "<blockquote style=\"text-align:right;\"><em>Programming knowledge is not a neutral thing</em><br><br>\n",
    "--<a href=\"https://miriamposner.com/blog/some-things-to-think-about-before-you-exhort-everyone-to-code/\">Miriam Posner</a>\n",
    "</blockquote>"
   ]
  },
  {
   "cell_type": "markdown",
   "metadata": {},
   "source": [
    "Before we dive into Python, we want to acknowledge that programming knowledge is not a neutral thing or a natural thing. Further, programming knowledge is not a superior form of knowledge, and it is not the best way to approach every problem.\n",
    "\n",
    "As a good primer on the subject, Miriam Posner, a professor of DH and information studies at UCLA, wrote an excellent blog post about why people should think before they [\"exhort everyone to code.\"](https://miriamposner.com/blog/some-things-to-think-about-before-you-exhort-everyone-to-code/). Posner discusses that certain kinds of people, like middle-class white men, are more likely to be exposed to programming languages at a young age and are less likely to experience sexism and racism while learning programming languages. \"Programming knowledge is not a neutral thing,\" she argues.\n",
    "\n",
    "- **Aside**: Posner's post is a good start to recognize these issues aroung \"coding literacy.\" If you curious about other researchers and works on these matters, check out these folks referenced by the national Special Interest Group (SIG) that I chair: [SIGWROC](https://wroc.netlify.app/bibliography/) (SIG on the Writing and Rhetoric of Code). With regards to coding literacy, definitely check out Annette Vee, Antonio Byrd, Ashley Rea, and even yours truly `:-)`.\n",
    "\n",
    "Ok, now let's begin this series of lessons that cover the basics of a programming language called *Python*."
   ]
  },
  {
   "cell_type": "markdown",
   "metadata": {},
   "source": [
    "## Why Learn a Programming Language?"
   ]
  },
  {
   "cell_type": "markdown",
   "metadata": {},
   "source": [
    "With all that said, why might it be worthwhile to learn a programming language? "
   ]
  },
  {
   "cell_type": "markdown",
   "metadata": {},
   "source": [
    "* You can save time and energy by automating tasks\n",
    "* You can collect and analyze cultural data from a different perspective, such as from a larger scale or a new angle\n",
    "* You can gain more flexibility, customizability, and autonomy over your digital research projects\n",
    "* You can better understand how data and programming languages shape contemporary society and culture "
   ]
  },
  {
   "cell_type": "markdown",
   "metadata": {},
   "source": [
    "## Why Python Specifically?"
   ]
  },
  {
   "cell_type": "markdown",
   "metadata": {},
   "source": [
    "Ok but why Python specifically?"
   ]
  },
  {
   "cell_type": "markdown",
   "metadata": {},
   "source": [
    "* Python is very readable for those who know English\n",
    "* Python is known to have a relatively smooth learning curve\n",
    "* Python is a broadly used and popular language\n",
    "* Python is increasingly good for data science"
   ]
  },
  {
   "cell_type": "markdown",
   "metadata": {},
   "source": [
    "Other commonly used programming languages for cultural analytics/digital humanities include [R](https://humanitiesdata.org/) and [JavaScript](https://the-javascripting-english-major.org/v1/)."
   ]
  },
  {
   "cell_type": "markdown",
   "metadata": {},
   "source": [
    "## Learning Goals with Python"
   ]
  },
  {
   "cell_type": "markdown",
   "metadata": {},
   "source": [
    "Our learning goals with Python are a little different than they might be in a straightforward Computer Science course. We're striving to learn how to:"
   ]
  },
  {
   "cell_type": "markdown",
   "metadata": {},
   "source": [
    "* Use Python as we consider social, cultural, and ethical issues\n",
    "* Read and think critically and ethically about Python code and the data we are using and changing based on our goals\n",
    "* Tinker critically with existing Python code, so we can consider how writing, code, data, and other digital media are inter-related\n",
    "* Collaborate better between professions that interact among and across computer science and software development domains"
   ]
  },
  {
   "cell_type": "markdown",
   "metadata": {},
   "source": [
    "## Python Version 3"
   ]
  },
  {
   "cell_type": "markdown",
   "metadata": {},
   "source": [
    " The latest version of Python is Python 3. Python 2 has officially been [retired](https://www.python.org/doc/sunset-python-2/). You should not use Python 2.\n",
    " \n",
    " It's possible that you may come across old Python 2 code on the internet, which won't work with Python 3. A tell-tale difference between Python 3 and Python 2 code is the syntax for the `print()` function. "
   ]
  },
  {
   "cell_type": "markdown",
   "metadata": {},
   "source": [
    "### Python 3"
   ]
  },
  {
   "cell_type": "markdown",
   "metadata": {},
   "source": [
    "In Python 3, the `print()` function requires parentheses."
   ]
  },
  {
   "cell_type": "code",
   "execution_count": 1,
   "metadata": {},
   "outputs": [
    {
     "name": "stdout",
     "output_type": "stream",
     "text": [
      "Good riddance, Python 2!\n"
     ]
    }
   ],
   "source": [
    "print(\"Good riddance, Python 2!\")"
   ]
  },
  {
   "cell_type": "markdown",
   "metadata": {},
   "source": [
    "### Python 2"
   ]
  },
  {
   "cell_type": "markdown",
   "metadata": {},
   "source": [
    "In Python 2, the `print()` function does not parentheses."
   ]
  },
  {
   "cell_type": "code",
   "execution_count": 2,
   "metadata": {},
   "outputs": [
    {
     "name": "stdout",
     "output_type": "stream",
     "text": [
      "Good riddance, Python 2!\n"
     ]
    }
   ],
   "source": [
    "print(\"Good riddance, Python 2!\")"
   ]
  }
 ],
 "metadata": {
  "kernelspec": {
   "display_name": "Python 3",
   "language": "python",
   "name": "python3"
  },
  "language_info": {
   "codemirror_mode": {
    "name": "ipython",
    "version": 3
   },
   "file_extension": ".py",
   "mimetype": "text/x-python",
   "name": "python",
   "nbconvert_exporter": "python",
   "pygments_lexer": "ipython3",
   "version": "3.9.13"
  }
 },
 "nbformat": 4,
 "nbformat_minor": 4
}
